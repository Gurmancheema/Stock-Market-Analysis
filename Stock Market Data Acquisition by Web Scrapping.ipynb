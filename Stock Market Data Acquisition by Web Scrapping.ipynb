{
 "cells": [
  {
   "cell_type": "markdown",
   "id": "0e0124e7",
   "metadata": {},
   "source": [
    "# 1. Data Acquisition by Web Scraping"
   ]
  },
  {
   "cell_type": "markdown",
   "id": "8a86023f",
   "metadata": {},
   "source": [
    "# Let's scrape the stock data of top 5 tech companies across the globe"
   ]
  },
  {
   "cell_type": "code",
   "execution_count": 1,
   "id": "c101599d",
   "metadata": {},
   "outputs": [],
   "source": [
    "from bs4 import BeautifulSoup\n",
    "import requests"
   ]
  },
  {
   "cell_type": "code",
   "execution_count": 2,
   "id": "8c8a0160",
   "metadata": {},
   "outputs": [],
   "source": [
    "URL = 'https://companiesmarketcap.com/tech/largest-tech-companies-by-market-cap/'"
   ]
  },
  {
   "cell_type": "code",
   "execution_count": 3,
   "id": "ecde9a92",
   "metadata": {},
   "outputs": [],
   "source": [
    "response = requests.get(URL)\n",
    "response.raise_for_status()"
   ]
  },
  {
   "cell_type": "code",
   "execution_count": 4,
   "id": "fa590625",
   "metadata": {},
   "outputs": [],
   "source": [
    "soup = BeautifulSoup(response.text,\"html.parser\")"
   ]
  },
  {
   "cell_type": "code",
   "execution_count": 5,
   "id": "050b9024",
   "metadata": {},
   "outputs": [
    {
     "data": {
      "text/plain": [
       "[<table class=\"default-table table marketcap-table dataTable\" style=\"width:100%\">\n",
       " <thead><tr><th class=\"th-id-1 th-rank sorting sorting_asc\" tid=\"1\">Rank</th><th class=\"th-id-2 th-name sorting\" tid=\"2\">Name</th><th class=\"th-id-3 th-mcap sorting text-right\" tid=\"3\">Market Cap</th><th class=\"th-id-4 th-price sorting text-right\" tid=\"4\">Price</th><th class=\"th-id-5 th-1d sorting rh-sm\" tid=\"5\">Today</th><th class=\"th-id-6 th-30d no-sort\" tid=\"6\">Price (30 days)</th><th class=\"th-id-7 th-country sorting\" tid=\"7\">Country</th></tr></thead> <tbody>\n",
       " <td class=\"rank-td td-right\" data-sort=\"1\">1</td><td class=\"name-td\"><div class=\"logo-container\"><img alt=\"Apple logo\" class=\"company-logo\" data-img-dark-path=\"/img/company-logos/64/AAPL.D.png\" data-img-path=\"/img/company-logos/64/AAPL.png\" loading=\"lazy\" src=\"/img/company-logos/64/AAPL.png\"/></div><div class=\"name-div\"><a href=\"/apple/marketcap/\"><div class=\"company-name\">Apple</div><div class=\"company-code\"><span class=\"rank d-none\"></span>AAPL</div></a></div></td><td class=\"td-right\" data-sort=\"3052468961280\">$3.052 T</td><td class=\"td-right\" data-sort=\"19407\">$194.07</td><td class=\"rh-sm\" data-sort=\"49\"><span class=\"percentage-green\"><svg class=\"a\" viewbox=\"0 0 12 12\"><path d=\"M10 8H2l4-4 4 4z\"></path></svg>0.49%</span></td><td class=\"p-0 sparkline-td green\"><svg><path d=\"M0,41 5,40 10,33 15,34 20,32 25,27 30,30 35,30 40,29 45,32 50,24 55,25 60,29 65,21 70,18 75,17 80,6 85,10 90,10 95,13 100,12 105,15 110,20 115,21 120,17 125,15 130,15 135,6 140,7 145,3 150,8 155,6\"></path></svg></td><td>🇺🇸 <span class=\"responsive-hidden\">USA</span></td><td class=\"rank-td td-right\" data-sort=\"2\">2</td><td class=\"name-td\"><div class=\"logo-container\"><img alt=\"Microsoft logo\" class=\"company-logo\" loading=\"lazy\" src=\"/img/company-logos/64/MSFT.png\"/></div><div class=\"name-div\"><a href=\"/microsoft/marketcap/\"><div class=\"company-name\">Microsoft</div><div class=\"company-code\"><span class=\"rank d-none\"></span>MSFT</div></a></div></td><td class=\"td-right\" data-sort=\"2588743827456\">$2.588 T</td><td class=\"td-right\" data-sort=\"34816.1\">$348.16</td><td class=\"rh-sm\" data-sort=\"37\"><span class=\"percentage-green\"><svg class=\"a\" viewbox=\"0 0 12 12\"><path d=\"M10 8H2l4-4 4 4z\"></path></svg>0.37%</span></td><td class=\"p-0 sparkline-td green\"><svg><path d=\"M0,41 5,39 10,34 15,31 20,28 25,16 30,22 35,17 40,27 45,32 50,25 55,30 60,37 65,31 70,29 75,30 80,24 85,27 90,27 95,27 100,23 105,28 110,34 115,33 120,28 125,22 130,19 135,18 140,3 145,8 150,17 155,15\"></path></svg></td><td>🇺🇸 <span class=\"responsive-hidden\">USA</span></td><td class=\"rank-td td-right\" data-sort=\"3\">3</td><td class=\"name-td\"><div class=\"logo-container\"><img alt=\"Alphabet (Google) logo\" class=\"company-logo\" loading=\"lazy\" src=\"/img/company-logos/64/GOOG.png\"/></div><div class=\"name-div\"><a href=\"/alphabet-google/marketcap/\"><div class=\"company-name\">Alphabet (Google)</div><div class=\"company-code\"><span class=\"rank d-none\"></span>GOOG</div></a></div></td><td class=\"td-right\" data-sort=\"1528234115072\">$1.528 T</td><td class=\"td-right\" data-sort=\"12054\">$120.54</td><td class=\"rh-sm\" data-sort=\"85\"><span class=\"percentage-green\"><svg class=\"a\" viewbox=\"0 0 12 12\"><path d=\"M10 8H2l4-4 4 4z\"></path></svg>0.85%</span></td><td class=\"p-0 sparkline-td red\"><svg><path d=\"M0,16 5,15 10,9 15,9 20,9 25,3 30,10 35,10 40,11 45,22 50,11 55,15 60,32 65,32 70,23 75,28 80,24 85,25 90,25 95,16 100,24 105,27 110,41 115,37 120,29 125,7 130,3 135,6 140,10 145,16 150,30 155,25\"></path></svg></td><td>🇺🇸 <span class=\"responsive-hidden\">USA</span></td><td class=\"rank-td td-right\" data-sort=\"4\">4</td><td class=\"name-td\"><div class=\"logo-container\"><img alt=\"Amazon logo\" class=\"company-logo\" data-img-dark-path=\"/img/company-logos/64/AMZN.D.png\" data-img-path=\"/img/company-logos/64/AMZN.png\" loading=\"lazy\" src=\"/img/company-logos/64/AMZN.png\"/></div><div class=\"name-div\"><a href=\"/amazon/marketcap/\"><div class=\"company-name\">Amazon</div><div class=\"company-code\"><span class=\"rank d-none\"></span>AMZN</div></a></div></td><td class=\"td-right\" data-sort=\"1335118135296\">$1.335 T</td><td class=\"td-right\" data-sort=\"13012.3\">$130.12</td><td class=\"rh-sm\" data-sort=\"13\"><span class=\"percentage-green\"><svg class=\"a\" viewbox=\"0 0 12 12\"><path d=\"M10 8H2l4-4 4 4z\"></path></svg>0.13%</span></td><td class=\"p-0 sparkline-td green\"><svg><path d=\"M0,38 5,41 10,31 15,31 20,31 25,29 30,34 35,34 40,34 45,37 50,20 55,22 60,29 65,23 70,23 75,27 80,19 85,19 90,19 95,19 100,25 105,21 110,29 115,24 120,18 125,6 130,5 135,9 140,11 145,3 150,20 155,19\"></path></svg></td><td>🇺🇸 <span class=\"responsive-hidden\">USA</span></td><td class=\"rank-td td-right\" data-sort=\"5\">5</td><td class=\"name-td\"><div class=\"logo-container\"><img alt=\"NVIDIA logo\" class=\"company-logo\" loading=\"lazy\" src=\"/img/company-logos/64/NVDA.png\"/></div><div class=\"name-div\"><a href=\"/nvidia/marketcap/\"><div class=\"company-name\">NVIDIA</div><div class=\"company-code\"><span class=\"rank d-none\"></span>NVDA</div></a></div></td><td class=\"td-right\" data-sort=\"1116143616000\">$1.116 T</td><td class=\"td-right\" data-sort=\"45188\">$451.88</td><td class=\"rh-sm\" data-sort=\"-73\"><span class=\"percentage-red\"><svg class=\"a\" viewbox=\"0 0 12 12\"><path d=\"m2 4h8l-4 4z\"></path></svg>0.73%</span></td><td class=\"p-0 sparkline-td green\"><svg><path d=\"M0,41 5,40 10,37 15,30 20,22 25,23 30,23 35,23 40,19 45,22 50,22 55,25 60,32 65,27 70,30 75,31 80,25 85,24 90,24 95,25 100,26 105,24 110,25 115,25 120,18 125,9 130,12 135,7 140,3 145,5 150,11 155,11\"></path></svg></td><td>🇺🇸 <span class=\"responsive-hidden\">USA</span></td><td class=\"rank-td td-right\" data-sort=\"6\">6</td><td class=\"name-td\"><div class=\"logo-container\"><img alt=\"Tesla logo\" class=\"company-logo\" loading=\"lazy\" src=\"/img/company-logos/64/TSLA.png\"/></div><div class=\"name-div\"><a href=\"/tesla/marketcap/\"><div class=\"company-name\">Tesla</div><div class=\"company-code\"><span class=\"rank d-none\"></span>TSLA</div></a></div></td><td class=\"td-right\" data-sort=\"831011160064\">$831.01 B</td><td class=\"td-right\" data-sort=\"26219\">$262.19</td><td class=\"rh-sm\" data-sort=\"-27\"><span class=\"percentage-red\"><svg class=\"a\" viewbox=\"0 0 12 12\"><path d=\"m2 4h8l-4 4z\"></path></svg>0.27%</span></td><td class=\"p-0 sparkline-td green\"><svg><path d=\"M0,41 5,35 10,31 15,26 20,27 25,27 30,24 35,24 40,15 45,25 50,22 55,27 60,37 65,31 70,27 75,26 80,24 85,12 90,12 95,10 100,14 105,15 110,18 115,18 120,17 125,13 130,11 135,5 140,3 145,4 150,23 155,22\"></path></svg></td><td>🇺🇸 <span class=\"responsive-hidden\">USA</span></td><td class=\"rank-td td-right\" data-sort=\"7\">7</td><td class=\"name-td\"><div class=\"logo-container\"><img alt=\"Meta Platforms (Facebook) logo\" class=\"company-logo\" data-img-dark-path=\"/img/company-logos/64/META.D.png\" data-img-path=\"/img/company-logos/64/META.png\" loading=\"lazy\" src=\"/img/company-logos/64/META.png\"/></div><div class=\"name-div\"><a href=\"/meta-platforms/marketcap/\"><div class=\"company-name\">Meta Platforms (Facebook)</div><div class=\"company-code\"><span class=\"rank d-none\"></span>META</div></a></div></td><td class=\"td-right\" data-sort=\"772842520576\">$772.84 B</td><td class=\"td-right\" data-sort=\"30157\">$301.57</td><td class=\"rh-sm\" data-sort=\"-31\"><span class=\"percentage-red\"><svg class=\"a\" viewbox=\"0 0 12 12\"><path d=\"m2 4h8l-4 4z\"></path></svg>0.31%</span></td><td class=\"p-0 sparkline-td green\"><svg><path d=\"M0,41 5,41 10,36 15,36 20,35 25,28 30,29 35,26 40,26 45,28 50,26 55,23 60,31 65,24 70,26 75,28 80,24 85,25 90,25 95,19 100,21 105,22 110,19 115,16 120,8 125,5 130,8 135,7 140,6 145,3 150,13 155,13\"></path></svg></td><td>🇺🇸 <span class=\"responsive-hidden\">USA</span></td><td class=\"rank-td td-right\" data-sort=\"8\">8</td><td class=\"name-td\"><div class=\"logo-container\"><img alt=\"TSMC logo\" class=\"company-logo\" loading=\"lazy\" src=\"/img/company-logos/64/TSM.png\"/></div><div class=\"name-div\"><a href=\"/tsmc/marketcap/\"><div class=\"company-name\">TSMC</div><div class=\"company-code\"><span class=\"rank d-none\"></span>TSM</div></a></div></td><td class=\"td-right\" data-sort=\"502976479232\">$502.97 B</td><td class=\"td-right\" data-sort=\"9697.97\">$96.98</td><td class=\"rh-sm\" data-sort=\"-90\"><span class=\"percentage-red\"><svg class=\"a\" viewbox=\"0 0 12 12\"><path d=\"m2 4h8l-4 4z\"></path></svg>0.90%</span></td><td class=\"p-0 sparkline-td red\"><svg><path d=\"M0,30 5,20 10,4 15,5 20,3 25,11 30,13 35,13 40,16 45,24 50,19 55,23 60,30 65,23 70,27 75,28 80,27 85,19 90,19 95,27 100,32 105,29 110,31 115,26 120,16 125,10 130,11 135,13 140,19 145,19 150,38 155,41\"></path></svg></td><td>🇹🇼 <span class=\"responsive-hidden\">Taiwan</span></td><td class=\"rank-td td-right\" data-sort=\"9\">9</td><td class=\"name-td\"><div class=\"logo-container\"><img alt=\"Tencent logo\" class=\"company-logo\" data-img-dark-path=\"/img/company-logos/64/TCEHY.D.png\" data-img-path=\"/img/company-logos/64/TCEHY.png\" loading=\"lazy\" src=\"/img/company-logos/64/TCEHY.png\"/></div><div class=\"name-div\"><a href=\"/tencent/marketcap/\"><div class=\"company-name\">Tencent</div><div class=\"company-code\"><span class=\"rank d-none\"></span>TCEHY</div></a></div></td><td class=\"td-right\" data-sort=\"408055906304\">$408.05 B</td><td class=\"td-right\" data-sort=\"4256\">$42.56</td><td class=\"rh-sm\" data-sort=\"19\"><span class=\"percentage-green\"><svg class=\"a\" viewbox=\"0 0 12 12\"><path d=\"M10 8H2l4-4 4 4z\"></path></svg>0.19%</span></td><td class=\"p-0 sparkline-td red\"><svg><path d=\"M0,28 5,29 10,27 15,18 20,9 25,4 30,3 35,3 40,20 45,23 50,23 55,31 60,31 65,21 70,28 75,33 80,30 85,26 90,26 95,30 100,41 105,27 110,31 115,26 120,11 125,7 130,12 135,14 140,29 145,29 150,30 155,29\"></path></svg></td><td>🇨🇳 <span class=\"responsive-hidden\">China</span></td><td class=\"rank-td td-right\" data-sort=\"10\">10</td><td class=\"name-td\"><div class=\"logo-container\"><img alt=\"Broadcom logo\" class=\"company-logo\" loading=\"lazy\" src=\"/img/company-logos/64/AVGO.png\"/></div><div class=\"name-div\"><a href=\"/broadcom/marketcap/\"><div class=\"company-name\">Broadcom</div><div class=\"company-code\"><span class=\"rank d-none\"></span>AVGO</div></a></div></td><td class=\"td-right\" data-sort=\"373995569152\">$373.99 B</td><td class=\"td-right\" data-sort=\"90625\">$906.25</td><td class=\"rh-sm\" data-sort=\"202\"><span class=\"percentage-green\"><svg class=\"a\" viewbox=\"0 0 12 12\"><path d=\"M10 8H2l4-4 4 4z\"></path></svg>2.02%</span></td><td class=\"p-0 sparkline-td green\"><svg><path d=\"M0,41 5,41 10,23 15,24 20,12 25,13 30,18 35,18 40,18 45,25 50,27 55,35 60,35 65,25 70,25 75,20 80,18 85,15 90,15 95,20 100,25 105,26 110,15 115,13 120,10 125,10 130,11 135,3 140,5 145,6 150,11 155,4\"></path></svg></td><td>🇺🇸 <span class=\"responsive-hidden\">USA</span></td><td class=\"rank-td td-right\" data-sort=\"11\">11</td><td class=\"name-td\"><div class=\"logo-container\"><img alt=\"Samsung logo\" class=\"company-logo\" data-img-dark-path=\"/img/company-logos/64/005930.KS.D.png\" data-img-path=\"/img/company-logos/64/005930.KS.png\" loading=\"lazy\" src=\"/img/company-logos/64/005930.KS.png\"/></div><div class=\"name-div\"><a href=\"/samsung/marketcap/\"><div class=\"company-name\">Samsung</div><div class=\"company-code\"><span class=\"rank d-none\"></span>005930.KS</div></a></div></td><td class=\"td-right\" data-sort=\"368293662451\">$368.29 B</td><td class=\"td-right\" data-sort=\"5535\">$55.35</td><td class=\"rh-sm\" data-sort=\"-99\"><span class=\"percentage-red\"><svg class=\"a\" viewbox=\"0 0 12 12\"><path d=\"m2 4h8l-4 4z\"></path></svg>0.99%</span></td><td class=\"p-0 sparkline-td red\"><svg><path d=\"M0,27 5,17 10,26 15,17 20,18 25,22 30,19 35,24 40,22 45,31 50,23 55,21 60,13 65,11 70,10 75,13 80,15 85,7 90,7 95,17 100,21 105,37 110,41 115,22 120,18 125,18 130,3 135,4 140,17 145,20 150,26 155,33\"></path></svg></td><td>🇰🇷 <span class=\"responsive-hidden\">S. Korea</span></td><td class=\"rank-td td-right\" data-sort=\"12\">12</td><td class=\"name-td\"><div class=\"logo-container\"><img alt=\"Oracle logo\" class=\"company-logo\" loading=\"lazy\" src=\"/img/company-logos/64/ORCL.png\"/></div><div class=\"name-div\"><a href=\"/oracle/marketcap/\"><div class=\"company-name\">Oracle</div><div class=\"company-code\"><span class=\"rank d-none\"></span>ORCL</div></a></div></td><td class=\"td-right\" data-sort=\"321395523584\">$321.39 B</td><td class=\"td-right\" data-sort=\"11841\">$118.41</td><td class=\"rh-sm\" data-sort=\"218\"><span class=\"percentage-green\"><svg class=\"a\" viewbox=\"0 0 12 12\"><path d=\"M10 8H2l4-4 4 4z\"></path></svg>2.18%</span></td><td class=\"p-0 sparkline-td green\"><svg><path d=\"M0,41 5,36 10,23 15,23 20,12 25,3 30,5 35,5 40,12 45,12 50,15 55,19 60,22 65,20 70,23 75,20 80,18 85,22 90,22 95,24 100,25 105,27 110,27 115,26 120,24 125,21 130,18 135,18 140,15 145,19 150,24 155,20\"></path></svg></td><td>🇺🇸 <span class=\"responsive-hidden\">USA</span></td><td class=\"rank-td td-right\" data-sort=\"13\">13</td><td class=\"name-td\"><div class=\"logo-container\"><img alt=\"ASML logo\" class=\"company-logo\" data-img-dark-path=\"/img/company-logos/64/ASML.D.png\" data-img-path=\"/img/company-logos/64/ASML.png\" loading=\"lazy\" src=\"/img/company-logos/64/ASML.png\"/></div><div class=\"name-div\"><a href=\"/asml/marketcap/\"><div class=\"company-name\">ASML</div><div class=\"company-code\"><span class=\"rank d-none\"></span>ASML</div></a></div></td><td class=\"td-right\" data-sort=\"295031013376\">$295.03 B</td><td class=\"td-right\" data-sort=\"69274\">$692.74</td><td class=\"rh-sm\" data-sort=\"246\"><span class=\"percentage-green\"><svg class=\"a\" viewbox=\"0 0 12 12\"><path d=\"M10 8H2l4-4 4 4z\"></path></svg>2.46%</span></td><td class=\"p-0 sparkline-td red\"><svg><path d=\"M0,20 5,22 10,16 15,12 20,11 25,12 30,20 35,20 40,20 45,26 50,22 55,31 60,30 65,18 70,18 75,19 80,18 85,14 90,14 95,22 100,30 105,31 110,25 115,27 120,18 125,6 130,4 135,4 140,3 145,22 150,41 155,32\"></path></svg></td><td>🇳🇱 <span class=\"responsive-hidden\">Netherlands</span></td><td class=\"rank-td td-right\" data-sort=\"14\">14</td><td class=\"name-td\"><div class=\"logo-container\"><img alt=\"Adobe logo\" class=\"company-logo\" loading=\"lazy\" src=\"/img/company-logos/64/ADBE.png\"/></div><div class=\"name-div\"><a href=\"/adobe/marketcap/\"><div class=\"company-name\">Adobe</div><div class=\"company-code\"><span class=\"rank d-none\"></span>ADBE</div></a></div></td><td class=\"td-right\" data-sort=\"244300840960\">$244.30 B</td><td class=\"td-right\" data-sort=\"52568\">$525.68</td><td class=\"rh-sm\" data-sort=\"170\"><span class=\"percentage-green\"><svg class=\"a\" viewbox=\"0 0 12 12\"><path d=\"M10 8H2l4-4 4 4z\"></path></svg>1.70%</span></td><td class=\"p-0 sparkline-td green\"><svg><path d=\"M0,41 5,35 10,26 15,25 20,24 25,20 30,18 35,18 40,22 45,25 50,25 55,22 60,24 65,21 70,23 75,23 80,21 85,22 90,22 95,21 100,24 105,22 110,18 115,14 120,13 125,9 130,10 135,7 140,3 145,5 150,9 155,5\"></path></svg></td><td>🇺🇸 <span class=\"responsive-hidden\">USA</span></td><td class=\"rank-td td-right\" data-sort=\"15\">15</td><td class=\"name-td\"><div class=\"logo-container\"><img alt=\"Alibaba logo\" class=\"company-logo\" data-img-dark-path=\"/img/company-logos/64/BABA.D.png\" data-img-path=\"/img/company-logos/64/BABA.png\" loading=\"lazy\" src=\"/img/company-logos/64/BABA.png\"/></div><div class=\"name-div\"><a href=\"/alibaba/marketcap/\"><div class=\"company-name\">Alibaba</div><div class=\"company-code\"><span class=\"rank d-none\"></span>BABA</div></a></div></td><td class=\"td-right\" data-sort=\"236518768640\">$236.51 B</td><td class=\"td-right\" data-sort=\"9230\">$92.30</td><td class=\"rh-sm\" data-sort=\"44\"><span class=\"percentage-green\"><svg class=\"a\" viewbox=\"0 0 12 12\"><path d=\"M10 8H2l4-4 4 4z\"></path></svg>0.44%</span></td><td class=\"p-0 sparkline-td green\"><svg><path d=\"M0,33 5,35 10,34 15,29 20,24 25,16 30,16 35,16 40,28 45,31 50,31 55,37 60,35 65,30 70,37 75,40 80,41 85,39 90,39 95,38 100,40 105,20 110,20 115,17 120,10 125,3 130,9 135,12 140,19 145,16 150,16 155,15\"></path></svg></td><td>🇨🇳 <span class=\"responsive-hidden\">China</span></td><td class=\"rank-td td-right\" data-sort=\"16\">16</td><td class=\"name-td\"><div class=\"logo-container\"><img alt=\"Salesforce logo\" class=\"company-logo\" loading=\"lazy\" src=\"/img/company-logos/64/CRM.png\"/></div><div class=\"name-div\"><a href=\"/salesforce/marketcap/\"><div class=\"company-name\">Salesforce</div><div class=\"company-code\"><span class=\"rank d-none\"></span>CRM</div></a></div></td><td class=\"td-right\" data-sort=\"222987567104\">$222.98 B</td><td class=\"td-right\" data-sort=\"22894\">$228.94</td><td class=\"rh-sm\" data-sort=\"34\"><span class=\"percentage-green\"><svg class=\"a\" viewbox=\"0 0 12 12\"><path d=\"M10 8H2l4-4 4 4z\"></path></svg>0.34%</span></td><td class=\"p-0 sparkline-td green\"><svg><path d=\"M0,38 5,30 10,32 15,39 20,38 25,35 30,35 35,35 40,27 45,38 50,33 55,37 60,41 65,39 70,34 75,37 80,36 85,35 90,35 95,32 100,37 105,38 110,33 115,22 120,13 125,9 130,10 135,12 140,12 145,3 150,12 155,9\"></path></svg></td><td>🇺🇸 <span class=\"responsive-hidden\">USA</span></td><td class=\"rank-td td-right\" data-sort=\"17\" moves=\"1\">17</td><td class=\"name-td\"><div class=\"logo-container\"><img alt=\"Cisco logo\" class=\"company-logo\" loading=\"lazy\" src=\"/img/company-logos/64/CSCO.png\"/></div><div class=\"name-div\"><a href=\"/cisco/marketcap/\"><div class=\"company-name\">Cisco</div><div class=\"company-code\"><span class=\"rank d-none\"></span>CSCO</div></a></div></td><td class=\"td-right\" data-sort=\"215368941568\">$215.36 B</td><td class=\"td-right\" data-sort=\"5279\">$52.79</td><td class=\"rh-sm\" data-sort=\"80\"><span class=\"percentage-green\"><svg class=\"a\" viewbox=\"0 0 12 12\"><path d=\"M10 8H2l4-4 4 4z\"></path></svg>0.80%</span></td><td class=\"p-0 sparkline-td green\"><svg><path d=\"M0,41 5,41 10,31 15,27 20,25 25,13 30,11 35,11 40,17 45,26 50,23 55,33 60,34 65,26 70,26 75,22 80,15 85,14 90,14 95,18 100,23 105,24 110,19 115,10 120,28 125,18 130,32 135,27 140,21 145,6 150,7 155,3\"></path></svg></td><td>🇺🇸 <span class=\"responsive-hidden\">USA</span></td><td class=\"rank-td td-right\" data-sort=\"18\" moves=\"-1\">18</td><td class=\"name-td\"><div class=\"logo-container\"><img alt=\"Netflix logo\" class=\"company-logo\" loading=\"lazy\" src=\"/img/company-logos/64/NFLX.png\"/></div><div class=\"name-div\"><a href=\"/netflix/marketcap/\"><div class=\"company-name\">Netflix</div><div class=\"company-code\"><span class=\"rank d-none\"></span>NFLX</div></a></div></td><td class=\"td-right\" data-sort=\"191783878656\">$191.78 B</td><td class=\"td-right\" data-sort=\"43142\">$431.42</td><td class=\"rh-sm\" data-sort=\"-137\"><span class=\"percentage-red\"><svg class=\"a\" viewbox=\"0 0 12 12\"><path d=\"m2 4h8l-4 4z\"></path></svg>1.37%</span></td><td class=\"p-0 sparkline-td green\"><svg><path d=\"M0,41 5,35 10,33 15,26 20,23 25,21 30,28 35,28 40,27 45,33 50,34 55,33 60,37 65,37 70,30 75,30 80,24 85,23 90,23 95,21 100,25 105,25 110,23 115,24 120,22 125,18 130,23 135,18 140,5 145,3 150,25 155,27\"></path></svg></td><td>🇺🇸 <span class=\"responsive-hidden\">USA</span></td><td class=\"rank-td td-right\" data-sort=\"19\">19</td><td class=\"name-td\"><div class=\"logo-container\"><img alt=\"AMD logo\" class=\"company-logo\" data-img-dark-path=\"/img/company-logos/64/AMD.D.png\" data-img-path=\"/img/company-logos/64/AMD.png\" loading=\"lazy\" src=\"/img/company-logos/64/AMD.png\"/></div><div class=\"name-div\"><a href=\"/amd/marketcap/\"><div class=\"company-name\">AMD</div><div class=\"company-code\"><span class=\"rank d-none\"></span>AMD</div></a></div></td><td class=\"td-right\" data-sort=\"176970514432\">$176.97 B</td><td class=\"td-right\" data-sort=\"10989.5\">$109.90</td><td class=\"rh-sm\" data-sort=\"-32\"><span class=\"percentage-red\"><svg class=\"a\" viewbox=\"0 0 12 12\"><path d=\"m2 4h8l-4 4z\"></path></svg>0.32%</span></td><td class=\"p-0 sparkline-td red\"><svg><path d=\"M0,17 5,10 10,3 15,11 20,6 25,12 30,19 35,19 40,21 45,33 50,35 55,37 60,41 65,36 70,36 75,34 80,30 85,26 90,26 95,30 100,31 105,31 110,30 115,34 120,29 125,26 130,26 135,22 140,23 145,25 150,36 155,34\"></path></svg></td><td>🇺🇸 <span class=\"responsive-hidden\">USA</span></td><td class=\"rank-td td-right\" data-sort=\"20\" moves=\"1\">20</td><td class=\"name-td\"><div class=\"logo-container\"><img alt=\"Texas Instruments logo\" class=\"company-logo\" loading=\"lazy\" src=\"/img/company-logos/64/TXN.png\"/></div><div class=\"name-div\"><a href=\"/texas-instruments/marketcap/\"><div class=\"company-name\">Texas Instruments</div><div class=\"company-code\"><span class=\"rank d-none\"></span>TXN</div></a></div></td><td class=\"td-right\" data-sort=\"170164944896\">$170.16 B</td><td class=\"td-right\" data-sort=\"18365\">$183.65</td><td class=\"rh-sm\" data-sort=\"207\"><span class=\"percentage-green\"><svg class=\"a\" viewbox=\"0 0 12 12\"><path d=\"M10 8H2l4-4 4 4z\"></path></svg>2.07%</span></td><td class=\"p-0 sparkline-td green\"><svg><path d=\"M0,30 5,34 10,26 15,18 20,19 25,16 30,19 35,19 40,25 45,34 50,29 55,41 60,38 65,21 70,24 75,19 80,12 85,12 90,12 95,20 100,24 105,27 110,13 115,15 120,6 125,4 130,10 135,4 140,3 145,3 150,12 155,3\"></path></svg></td><td>🇺🇸 <span class=\"responsive-hidden\">USA</span></td><td class=\"rank-td td-right\" data-sort=\"21\" moves=\"-1\">21</td><td class=\"name-td\"><div class=\"logo-container\"><img alt=\"SAP logo\" class=\"company-logo\" loading=\"lazy\" src=\"/img/company-logos/64/SAP.png\"/></div><div class=\"name-div\"><a href=\"/sap/marketcap/\"><div class=\"company-name\">SAP</div><div class=\"company-code\"><span class=\"rank d-none\"></span>SAP</div></a></div></td><td class=\"td-right\" data-sort=\"167254999040\">$167.25 B</td><td class=\"td-right\" data-sort=\"13554\">$135.54</td><td class=\"rh-sm\" data-sort=\"120\"><span class=\"percentage-green\"><svg class=\"a\" viewbox=\"0 0 12 12\"><path d=\"M10 8H2l4-4 4 4z\"></path></svg>1.20%</span></td><td class=\"p-0 sparkline-td green\"><svg><path d=\"M0,39 5,40 10,37 15,32 20,32 25,27 30,26 35,26 40,30 45,34 50,33 55,38 60,41 65,39 70,35 75,35 80,28 85,35 90,35 95,35 100,41 105,38 110,34 115,29 120,16 125,6 130,5 135,3 140,3 145,9 150,36 155,32\"></path></svg></td><td>🇩🇪 <span class=\"responsive-hidden\">Germany</span></td><td class=\"rank-td td-right\" data-sort=\"22\" moves=\"1\">22</td><td class=\"name-td\"><div class=\"logo-container\"><img alt=\"Intuit logo\" class=\"company-logo\" data-img-dark-path=\"/img/company-logos/64/INTU.D.png\" data-img-path=\"/img/company-logos/64/INTU.png\" loading=\"lazy\" src=\"/img/company-logos/64/INTU.png\"/></div><div class=\"name-div\"><a href=\"/intuit/marketcap/\"><div class=\"company-name\">Intuit</div><div class=\"company-code\"><span class=\"rank d-none\"></span>INTU</div></a></div></td><td class=\"td-right\" data-sort=\"141462454272\">$141.46 B</td><td class=\"td-right\" data-sort=\"49625.5\">$496.26</td><td class=\"rh-sm\" data-sort=\"91\"><span class=\"percentage-green\"><svg class=\"a\" viewbox=\"0 0 12 12\"><path d=\"M10 8H2l4-4 4 4z\"></path></svg>0.91%</span></td><td class=\"p-0 sparkline-td green\"><svg><path d=\"M0,41 5,37 10,30 15,29 20,30 25,25 30,25 35,25 40,25 45,28 50,27 55,27 60,26 65,23 70,23 75,25 80,24 85,27 90,27 95,24 100,27 105,29 110,21 115,21 120,15 125,12 130,11 135,8 140,6 145,3 150,7 155,4\"></path></svg></td><td>🇺🇸 <span class=\"responsive-hidden\">USA</span></td><td class=\"rank-td td-right\" data-sort=\"23\" moves=\"-1\">23</td><td class=\"name-td\"><div class=\"logo-container\"><img alt=\"Intel logo\" class=\"company-logo\" data-img-dark-path=\"/img/company-logos/64/INTC.D.png\" data-img-path=\"/img/company-logos/64/INTC.png\" loading=\"lazy\" src=\"/img/company-logos/64/INTC.png\"/></div><div class=\"name-div\"><a href=\"/intel/marketcap/\"><div class=\"company-name\">Intel</div><div class=\"company-code\"><span class=\"rank d-none\"></span>INTC</div></a></div></td><td class=\"td-right\" data-sort=\"140215271424\">$140.21 B</td><td class=\"td-right\" data-sort=\"3349\">$33.49</td><td class=\"rh-sm\" data-sort=\"36\"><span class=\"percentage-green\"><svg class=\"a\" viewbox=\"0 0 12 12\"><path d=\"M10 8H2l4-4 4 4z\"></path></svg>0.36%</span></td><td class=\"p-0 sparkline-td green\"><svg><path d=\"M0,37 5,41 10,28 15,22 20,9 25,7 30,3 35,3 40,13 45,29 50,31 55,28 60,26 65,20 70,24 75,29 80,25 85,24 90,24 95,32 100,36 105,37 110,30 115,26 120,21 125,22 130,27 135,18 140,17 145,17 150,26 155,24\"></path></svg></td><td>🇺🇸 <span class=\"responsive-hidden\">USA</span></td><td class=\"rank-td td-right\" data-sort=\"24\">24</td><td class=\"name-td\"><div class=\"logo-container\"><img alt=\"QUALCOMM logo\" class=\"company-logo\" data-img-dark-path=\"/img/company-logos/64/QCOM.D.png\" data-img-path=\"/img/company-logos/64/QCOM.png\" loading=\"lazy\" src=\"/img/company-logos/64/QCOM.png\"/></div><div class=\"name-div\"><a href=\"/qualcomm/marketcap/\"><div class=\"company-name\">QUALCOMM</div><div class=\"company-code\"><span class=\"rank d-none\"></span>QCOM</div></a></div></td><td class=\"td-right\" data-sort=\"139751604224\">$139.75 B</td><td class=\"td-right\" data-sort=\"12172\">$121.72</td><td class=\"rh-sm\" data-sort=\"83\"><span class=\"percentage-green\"><svg class=\"a\" viewbox=\"0 0 12 12\"><path d=\"M10 8H2l4-4 4 4z\"></path></svg>0.83%</span></td><td class=\"p-0 sparkline-td green\"><svg><path d=\"M0,31 5,21 10,11 15,3 20,7 25,6 30,9 35,9 40,19 45,33 50,31 55,41 60,30 65,19 70,27 75,25 80,22 85,18 90,18 95,28 100,35 105,32 110,28 115,29 120,23 125,8 130,9 135,7 140,8 145,3 150,16 155,11\"></path></svg></td><td>🇺🇸 <span class=\"responsive-hidden\">USA</span></td><td class=\"rank-td td-right\" data-sort=\"25\" moves=\"1\">25</td><td class=\"name-td\"><div class=\"logo-container\"><img alt=\"IBM logo\" class=\"company-logo\" data-img-dark-path=\"/img/company-logos/64/IBM.D.png\" data-img-path=\"/img/company-logos/64/IBM.png\" loading=\"lazy\" src=\"/img/company-logos/64/IBM.png\"/></div><div class=\"name-div\"><a href=\"/ibm/marketcap/\"><div class=\"company-name\">IBM</div><div class=\"company-code\"><span class=\"rank d-none\"></span>IBM</div></a></div></td><td class=\"td-right\" data-sort=\"125564461056\">$125.56 B</td><td class=\"td-right\" data-sort=\"13828\">$138.28</td><td class=\"rh-sm\" data-sort=\"-7\"><span class=\"percentage-red\"><svg class=\"a\" viewbox=\"0 0 12 12\"><path d=\"m2 4h8l-4 4z\"></path></svg>0.07%</span></td><td class=\"p-0 sparkline-td green\"><svg><path d=\"M0,21 5,17 10,12 15,8 20,9 25,4 30,8 35,8 40,14 45,24 50,34 55,41 60,33 65,29 70,31 75,22 80,23 85,24 90,24 95,21 100,30 105,30 110,27 115,21 120,27 125,23 130,25 135,21 140,17 145,16 150,4 155,3\"></path></svg></td><td>🇺🇸 <span class=\"responsive-hidden\">USA</span></td><td class=\"rank-td td-right\" data-sort=\"26\" moves=\"-1\">26</td><td class=\"name-td\"><div class=\"logo-container\"><img alt=\"ServiceNow logo\" class=\"company-logo\" loading=\"lazy\" src=\"/img/company-logos/64/NOW.png\"/></div><div class=\"name-div\"><a href=\"/servicenow/marketcap/\"><div class=\"company-name\">ServiceNow</div><div class=\"company-code\"><span class=\"rank d-none\"></span>NOW</div></a></div></td><td class=\"td-right\" data-sort=\"120823578624\">$120.82 B</td><td class=\"td-right\" data-sort=\"58831\">$588.31</td><td class=\"rh-sm\" data-sort=\"163\"><span class=\"percentage-green\"><svg class=\"a\" viewbox=\"0 0 12 12\"><path d=\"M10 8H2l4-4 4 4z\"></path></svg>1.63%</span></td><td class=\"p-0 sparkline-td green\"><svg><path d=\"M0,40 5,41 10,34 15,30 20,23 25,19 30,24 35,24 40,27 45,34 50,32 55,36 60,39 65,38 70,33 75,33 80,26 85,25 90,25 95,24 100,29 105,31 110,24 115,26 120,26 125,17 130,16 135,9 140,6 145,3 150,16 155,11\"></path></svg></td><td>🇺🇸 <span class=\"responsive-hidden\">USA</span></td><td class=\"rank-td td-right\" data-sort=\"27\" moves=\"1\">27</td><td class=\"name-td\"><div class=\"logo-container\"><img alt=\"Sony logo\" class=\"company-logo\" data-img-dark-path=\"/img/company-logos/64/SONY.D.png\" data-img-path=\"/img/company-logos/64/SONY.png\" loading=\"lazy\" src=\"/img/company-logos/64/SONY.png\"/></div><div class=\"name-div\"><a href=\"/sony/marketcap/\"><div class=\"company-name\">Sony</div><div class=\"company-code\"><span class=\"rank d-none\"></span>SONY</div></a></div></td><td class=\"td-right\" data-sort=\"116415275008\">$116.41 B</td><td class=\"td-right\" data-sort=\"9351\">$93.51</td><td class=\"rh-sm\" data-sort=\"28\"><span class=\"percentage-green\"><svg class=\"a\" viewbox=\"0 0 12 12\"><path d=\"M10 8H2l4-4 4 4z\"></path></svg>0.28%</span></td><td class=\"p-0 sparkline-td red\"><svg><path d=\"M0,13 5,9 10,6 15,3 20,4 25,5 30,12 35,12 40,17 45,23 50,26 55,36 60,38 65,39 70,35 75,40 80,40 85,34 90,34 95,35 100,38 105,36 110,37 115,41 120,35 125,26 130,31 135,27 140,21 145,23 150,28 155,27\"></path></svg></td><td>🇯🇵 <span class=\"responsive-hidden\">Japan</span></td><td class=\"rank-td td-right\" data-sort=\"28\" moves=\"1\">28</td><td class=\"name-td\"><div class=\"logo-container\"><img alt=\"Keyence logo\" class=\"company-logo\" data-img-dark-path=\"/img/company-logos/64/6861.T.D.png\" data-img-path=\"/img/company-logos/64/6861.T.png\" loading=\"lazy\" src=\"/img/company-logos/64/6861.T.png\"/></div><div class=\"name-div\"><a href=\"/keyence/marketcap/\"><div class=\"company-name\">Keyence</div><div class=\"company-code\"><span class=\"rank d-none\"></span>6861.T</div></a></div></td><td class=\"td-right\" data-sort=\"115272446656\">$115.27 B</td><td class=\"td-right\" data-sort=\"47530\">$475.30</td><td class=\"rh-sm\" data-sort=\"-35\"><span class=\"percentage-red\"><svg class=\"a\" viewbox=\"0 0 12 12\"><path d=\"m2 4h8l-4 4z\"></path></svg>0.35%</span></td><td class=\"p-0 sparkline-td red\"><svg><path d=\"M0,30 5,20 10,10 15,7 20,5 25,3 30,3 35,9 40,11 45,11 50,18 55,24 60,24 65,30 70,17 75,20 80,24 85,12 90,20 95,20 100,30 105,37 110,41 115,38 120,41 125,33 130,32 135,32 140,26 145,23 150,33 155,35\"></path></svg></td><td>🇯🇵 <span class=\"responsive-hidden\">Japan</span></td><td class=\"rank-td td-right\" data-sort=\"29\" moves=\"-2\">29</td><td class=\"name-td\"><div class=\"logo-container\"><img alt=\"Applied Materials logo\" class=\"company-logo\" loading=\"lazy\" src=\"/img/company-logos/64/AMAT.png\"/></div><div class=\"name-div\"><a href=\"/applied-materials/marketcap/\"><div class=\"company-name\">Applied Materials</div><div class=\"company-code\"><span class=\"rank d-none\"></span>AMAT</div></a></div></td><td class=\"td-right\" data-sort=\"113802518528\">$113.80 B</td><td class=\"td-right\" data-sort=\"13552\">$135.52</td><td class=\"rh-sm\" data-sort=\"110\"><span class=\"percentage-green\"><svg class=\"a\" viewbox=\"0 0 12 12\"><path d=\"M10 8H2l4-4 4 4z\"></path></svg>1.10%</span></td><td class=\"p-0 sparkline-td red\"><svg><path d=\"M0,34 5,35 10,23 15,17 20,19 25,23 30,26 35,26 40,27 45,33 50,26 55,35 60,24 65,3 70,11 75,10 80,9 85,6 90,6 95,16 100,22 105,24 110,21 115,30 120,26 125,15 130,15 135,6 140,9 145,17 150,41 155,35\"></path></svg></td><td>🇺🇸 <span class=\"responsive-hidden\">USA</span></td><td class=\"rank-td td-right\" data-sort=\"30\">30</td><td class=\"name-td\"><div class=\"logo-container\"><img alt=\"Booking Holdings (Booking.com) logo\" class=\"company-logo\" data-img-dark-path=\"/img/company-logos/64/BKNG.D.png\" data-img-path=\"/img/company-logos/64/BKNG.png\" loading=\"lazy\" src=\"/img/company-logos/64/BKNG.png\"/></div><div class=\"name-div\"><a href=\"/booking-holdings/marketcap/\"><div class=\"company-name\">Booking Holdings (Booking.com)</div><div class=\"company-code\"><span class=\"rank d-none\"></span>BKNG</div></a></div></td><td class=\"td-right\" data-sort=\"108882763776\">$108.88 B</td><td class=\"td-right\" data-sort=\"294806\">$2,948</td><td class=\"rh-sm\" data-sort=\"105\"><span class=\"percentage-green\"><svg class=\"a\" viewbox=\"0 0 12 12\"><path d=\"M10 8H2l4-4 4 4z\"></path></svg>1.05%</span></td><td class=\"p-0 sparkline-td green\"><svg><path d=\"M0,37 5,41 10,41 15,40 20,41 25,34 30,37 35,37 40,38 45,37 50,34 55,39 60,40 65,31 70,35 75,36 80,31 85,29 90,29 95,34 100,38 105,38 110,29 115,23 120,23 125,18 130,15 135,6 140,3 145,8 150,9 155,7\"></path></svg></td><td>🇺🇸 <span class=\"responsive-hidden\">USA</span></td><td class=\"rank-td td-right\" data-sort=\"31\">31</td><td class=\"name-td\"><div class=\"logo-container\"><img alt=\"Meituan logo\" class=\"company-logo\" loading=\"lazy\" src=\"/img/company-logos/64/3690.HK.png\"/></div><div class=\"name-div\"><a href=\"/meituan-dianping/marketcap/\"><div class=\"company-name\">Meituan</div><div class=\"company-code\"><span class=\"rank d-none\"></span>3690.HK</div></a></div></td><td class=\"td-right\" data-sort=\"102471511899\">$102.47 B</td><td class=\"td-right\" data-sort=\"1642\">$16.42</td><td class=\"rh-sm\" data-sort=\"118\"><span class=\"percentage-green\"><svg class=\"a\" viewbox=\"0 0 12 12\"><path d=\"M10 8H2l4-4 4 4z\"></path></svg>1.18%</span></td><td class=\"p-0 sparkline-td green\"><svg><path d=\"M0,30 5,25 10,24 15,23 20,25 25,5 30,3 35,5 40,14 45,24 50,24 55,30 60,31 65,27 70,25 75,30 80,35 85,26 90,24 95,30 100,38 105,41 110,37 115,35 120,25 125,10 130,14 135,14 140,21 145,24 150,26 155,23\"></path></svg></td><td>🇨🇳 <span class=\"responsive-hidden\">China</span></td><td class=\"rank-td td-right\" data-sort=\"32\">32</td><td class=\"name-td\"><div class=\"logo-container\"><img alt=\"Schneider Electric logo\" class=\"company-logo\" data-img-dark-path=\"/img/company-logos/64/SU.PA.D.png\" data-img-path=\"/img/company-logos/64/SU.PA.png\" loading=\"lazy\" src=\"/img/company-logos/64/SU.PA.png\"/></div><div class=\"name-div\"><a href=\"/schneider-electric/marketcap/\"><div class=\"company-name\">Schneider Electric</div><div class=\"company-code\"><span class=\"rank d-none\"></span>SU.PA</div></a></div></td><td class=\"td-right\" data-sort=\"102019917658\">$102.01 B</td><td class=\"td-right\" data-sort=\"18190\">$181.90</td><td class=\"rh-sm\" data-sort=\"119\"><span class=\"percentage-green\"><svg class=\"a\" viewbox=\"0 0 12 12\"><path d=\"M10 8H2l4-4 4 4z\"></path></svg>1.19%</span></td><td class=\"p-0 sparkline-td red\"><svg><path d=\"M0,13 5,13 10,12 15,4 20,4 25,10 30,17 35,16 40,24 45,27 50,32 55,36 60,31 65,23 70,17 75,17 80,3 85,16 90,23 95,25 100,41 105,40 110,35 115,26 120,7 125,21 130,19 135,26 140,24 145,36 150,27 155,19\"></path></svg></td><td>🇫🇷 <span class=\"responsive-hidden\">France</span></td><td class=\"rank-td td-right\" data-sort=\"33\">33</td><td class=\"name-td\"><div class=\"logo-container\"><img alt=\"Pinduoduo logo\" class=\"company-logo\" loading=\"lazy\" src=\"/img/company-logos/64/PDD.png\"/></div><div class=\"name-div\"><a href=\"/pinduoduo/marketcap/\"><div class=\"company-name\">Pinduoduo</div><div class=\"company-code\"><span class=\"rank d-none\"></span>PDD</div></a></div></td><td class=\"td-right\" data-sort=\"100917968896\">$100.91 B</td><td class=\"td-right\" data-sort=\"7595.87\">$75.96</td><td class=\"rh-sm\" data-sort=\"144\"><span class=\"percentage-green\"><svg class=\"a\" viewbox=\"0 0 12 12\"><path d=\"M10 8H2l4-4 4 4z\"></path></svg>1.44%</span></td><td class=\"p-0 sparkline-td green\"><svg><path d=\"M0,20 5,17 10,17 15,13 20,9 25,3 30,6 35,6 40,22 45,26 50,26 55,35 60,36 65,30 70,34 75,38 80,37 85,31 90,31 95,29 100,41 105,34 110,34 115,31 120,19 125,3 130,7 135,8 140,18 145,19 150,20 155,16\"></path></svg></td><td>🇨🇳 <span class=\"responsive-hidden\">China</span></td><td class=\"rank-td td-right\" data-sort=\"34\" moves=\"2\">34</td><td class=\"name-td\"><div class=\"logo-container\"><img alt=\"Automatic Data Processing logo\" class=\"company-logo\" loading=\"lazy\" src=\"/img/company-logos/64/ADP.png\"/></div><div class=\"name-div\"><a href=\"/automatic-data-processing/marketcap/\"><div class=\"company-name\">Automatic Data Processing</div><div class=\"company-code\"><span class=\"rank d-none\"></span>ADP</div></a></div></td><td class=\"td-right\" data-sort=\"98302615552\">$98.30 B</td><td class=\"td-right\" data-sort=\"23795\">$237.95</td><td class=\"rh-sm\" data-sort=\"37\"><span class=\"percentage-green\"><svg class=\"a\" viewbox=\"0 0 12 12\"><path d=\"M10 8H2l4-4 4 4z\"></path></svg>0.37%</span></td><td class=\"p-0 sparkline-td green\"><svg><path d=\"M0,39 5,39 10,34 15,31 20,38 25,30 30,30 35,30 40,31 45,31 50,31 55,41 60,38 65,38 70,38 75,37 80,32 85,34 90,34 95,32 100,29 105,34 110,25 115,22 120,24 125,21 130,17 135,11 140,7 145,5 150,6 155,3\"></path></svg></td><td>🇺🇸 <span class=\"responsive-hidden\">USA</span></td><td class=\"rank-td td-right\" data-sort=\"35\">35</td><td class=\"name-td\"><div class=\"logo-container\"><img alt=\"Analog Devices logo\" class=\"company-logo\" data-img-dark-path=\"/img/company-logos/64/ADI.D.png\" data-img-path=\"/img/company-logos/64/ADI.png\" loading=\"lazy\" src=\"/img/company-logos/64/ADI.png\"/></div><div class=\"name-div\"><a href=\"/analog-devices/marketcap/\"><div class=\"company-name\">Analog Devices</div><div class=\"company-code\"><span class=\"rank d-none\"></span>ADI</div></a></div></td><td class=\"td-right\" data-sort=\"95864307712\">$95.86 B</td><td class=\"td-right\" data-sort=\"19105\">$191.05</td><td class=\"rh-sm\" data-sort=\"74\"><span class=\"percentage-green\"><svg class=\"a\" viewbox=\"0 0 12 12\"><path d=\"M10 8H2l4-4 4 4z\"></path></svg>0.74%</span></td><td class=\"p-0 sparkline-td green\"><svg><path d=\"M0,41 5,39 10,27 15,17 20,18 25,23 30,26 35,26 40,27 45,32 50,31 55,31 60,30 65,16 70,22 75,23 80,11 85,12 90,12 95,22 100,31 105,33 110,20 115,20 120,10 125,3 130,17 135,7 140,7 145,9 150,23 155,17\"></path></svg></td><td>🇺🇸 <span class=\"responsive-hidden\">USA</span></td><td class=\"rank-td td-right\" data-sort=\"36\" moves=\"-2\">36</td><td class=\"name-td\"><div class=\"logo-container\"><img alt=\"Uber logo\" class=\"company-logo\" data-img-dark-path=\"/img/company-logos/64/UBER.D.png\" data-img-path=\"/img/company-logos/64/UBER.png\" loading=\"lazy\" src=\"/img/company-logos/64/UBER.png\"/></div><div class=\"name-div\"><a href=\"/uber/marketcap/\"><div class=\"company-name\">Uber</div><div class=\"company-code\"><span class=\"rank d-none\"></span>UBER</div></a></div></td><td class=\"td-right\" data-sort=\"94138449920\">$94.13 B</td><td class=\"td-right\" data-sort=\"4651.5\">$46.52</td><td class=\"rh-sm\" data-sort=\"-12\"><span class=\"percentage-red\"><svg class=\"a\" viewbox=\"0 0 12 12\"><path d=\"m2 4h8l-4 4z\"></path></svg>0.12%</span></td><td class=\"p-0 sparkline-td green\"><svg><path d=\"M0,41 5,37 10,33 15,35 20,36 25,25 30,24 35,24 40,31 45,28 50,27 55,25 60,19 65,22 70,20 75,29 80,26 85,26 90,26 95,23 100,31 105,27 110,28 115,19 120,18 125,12 130,17 135,13 140,3 145,5 150,7 155,7\"></path></svg></td><td>🇺🇸 <span class=\"responsive-hidden\">USA</span></td><td class=\"rank-td td-right\" data-sort=\"37\">37</td><td class=\"name-td\"><div class=\"logo-container\"><img alt=\"Airbnb logo\" class=\"company-logo\" loading=\"lazy\" src=\"/img/company-logos/64/ABNB.png\"/></div><div class=\"name-div\"><a href=\"/airbnb/marketcap/\"><div class=\"company-name\">Airbnb</div><div class=\"company-code\"><span class=\"rank d-none\"></span>ABNB</div></a></div></td><td class=\"td-right\" data-sort=\"93737820160\">$93.73 B</td><td class=\"td-right\" data-sort=\"14873\">$148.73</td><td class=\"rh-sm\" data-sort=\"237\"><span class=\"percentage-green\"><svg class=\"a\" viewbox=\"0 0 12 12\"><path d=\"M10 8H2l4-4 4 4z\"></path></svg>2.37%</span></td><td class=\"p-0 sparkline-td green\"><svg><path d=\"M0,41 5,38 10,30 15,30 20,30 25,27 30,26 35,26 40,28 45,27 50,27 55,30 60,32 65,27 70,27 75,30 80,26 85,21 90,21 95,22 100,26 105,24 110,22 115,15 120,16 125,12 130,9 135,6 140,5 145,6 150,6 155,3\"></path></svg></td><td>🇺🇸 <span class=\"responsive-hidden\">USA</span></td><td class=\"rank-td td-right\" data-sort=\"38\" moves=\"1\">38</td><td class=\"name-td\"><div class=\"logo-container\"><img alt=\"Shopify logo\" class=\"company-logo\" loading=\"lazy\" src=\"/img/company-logos/64/SHOP.png\"/></div><div class=\"name-div\"><a href=\"/shopify/marketcap/\"><div class=\"company-name\">Shopify</div><div class=\"company-code\"><span class=\"rank d-none\"></span>SHOP</div></a></div></td><td class=\"td-right\" data-sort=\"83938140160\">$83.93 B</td><td class=\"td-right\" data-sort=\"6563\">$65.63</td><td class=\"rh-sm\" data-sort=\"29\"><span class=\"percentage-green\"><svg class=\"a\" viewbox=\"0 0 12 12\"><path d=\"M10 8H2l4-4 4 4z\"></path></svg>0.29%</span></td><td class=\"p-0 sparkline-td green\"><svg><path d=\"M0,41 5,34 10,21 15,25 20,18 25,18 30,22 35,22 40,24 45,28 50,27 55,26 60,27 65,26 70,23 75,26 80,23 85,22 90,22 95,23 100,32 105,33 110,32 115,28 120,18 125,3 130,10 135,9 140,14 145,10 150,20 155,18\"></path></svg></td><td>🇨🇦 <span class=\"responsive-hidden\">Canada</span></td><td class=\"rank-td td-right\" data-sort=\"39\" moves=\"-1\">39</td><td class=\"name-td\"><div class=\"logo-container\"><img alt=\"Lam Research logo\" class=\"company-logo\" data-img-dark-path=\"/img/company-logos/64/LRCX.D.png\" data-img-path=\"/img/company-logos/64/LRCX.png\" loading=\"lazy\" src=\"/img/company-logos/64/LRCX.png\"/></div><div class=\"name-div\"><a href=\"/lam-research/marketcap/\"><div class=\"company-name\">Lam Research</div><div class=\"company-code\"><span class=\"rank d-none\"></span>LRCX</div></a></div></td><td class=\"td-right\" data-sort=\"83331776512\">$83.33 B</td><td class=\"td-right\" data-sort=\"62030.5\">$620.30</td><td class=\"rh-sm\" data-sort=\"78\"><span class=\"percentage-green\"><svg class=\"a\" viewbox=\"0 0 12 12\"><path d=\"M10 8H2l4-4 4 4z\"></path></svg>0.78%</span></td><td class=\"p-0 sparkline-td green\"><svg><path d=\"M0,35 5,40 10,26 15,27 20,24 25,30 30,36 35,36 40,35 45,41 50,31 55,39 60,31 65,11 70,16 75,17 80,15 85,9 90,9 95,25 100,30 105,33 110,26 115,31 120,29 125,18 130,18 135,3 140,6 145,17 150,34 155,29\"></path></svg></td><td>🇺🇸 <span class=\"responsive-hidden\">USA</span></td><td class=\"rank-td td-right\" data-sort=\"40\">40</td><td class=\"name-td\"><div class=\"logo-container\"><img alt=\"PayPal logo\" class=\"company-logo\" data-img-dark-path=\"/img/company-logos/64/PYPL.D.png\" data-img-path=\"/img/company-logos/64/PYPL.png\" loading=\"lazy\" src=\"/img/company-logos/64/PYPL.png\"/></div><div class=\"name-div\"><a href=\"/paypal/marketcap/\"><div class=\"company-name\">PayPal</div><div class=\"company-code\"><span class=\"rank d-none\"></span>PYPL</div></a></div></td><td class=\"td-right\" data-sort=\"80688144384\">$80.68 B</td><td class=\"td-right\" data-sort=\"7232\">$72.32</td><td class=\"rh-sm\" data-sort=\"-96\"><span class=\"percentage-red\"><svg class=\"a\" viewbox=\"0 0 12 12\"><path d=\"m2 4h8l-4 4z\"></path></svg>0.96%</span></td><td class=\"p-0 sparkline-td green\"><svg><path d=\"M0,38 5,41 10,40 15,41 20,41 25,33 30,31 35,31 40,22 45,25 50,23 55,29 60,31 65,31 70,32 75,33 80,30 85,25 90,25 95,22 100,32 105,29 110,21 115,16 120,16 125,10 130,11 135,6 140,3 145,4 150,8 155,8\"></path></svg></td><td>🇺🇸 <span class=\"responsive-hidden\">USA</span></td><td class=\"rank-td td-right\" data-sort=\"41\">41</td><td class=\"name-td\"><div class=\"logo-container\"><img alt=\"Fiserv logo\" class=\"company-logo\" loading=\"lazy\" src=\"/img/company-logos/64/FI.png\"/></div><div class=\"name-div\"><a href=\"/fiserv/marketcap/\"><div class=\"company-name\">Fiserv</div><div class=\"company-code\"><span class=\"rank d-none\"></span>FI</div></a></div></td><td class=\"td-right\" data-sort=\"79713247232\">$79.71 B</td><td class=\"td-right\" data-sort=\"12913\">$129.13</td><td class=\"rh-sm\" data-sort=\"-19\"><span class=\"percentage-red\"><svg class=\"a\" viewbox=\"0 0 12 12\"><path d=\"m2 4h8l-4 4z\"></path></svg>0.19%</span></td><td class=\"p-0 sparkline-td green\"><svg><path d=\"M0,41 5,37 10,35 15,32 20,28 25,27 30,28 35,28 40,30 45,28 50,27 55,27 60,28 65,22 70,20 75,17 80,12 85,12 90,12 95,15 100,14 105,14 110,10 115,10 120,8 125,5 130,7 135,6 140,3 145,8 150,3 155,3\"></path></svg></td><td>🇺🇸 <span class=\"responsive-hidden\">USA</span></td><td class=\"rank-td td-right\" data-sort=\"42\">42</td><td class=\"name-td\"><div class=\"logo-container\"><img alt=\"Equinix logo\" class=\"company-logo\" data-img-dark-path=\"/img/company-logos/64/EQIX.D.png\" data-img-path=\"/img/company-logos/64/EQIX.png\" loading=\"lazy\" src=\"/img/company-logos/64/EQIX.png\"/></div><div class=\"name-div\"><a href=\"/equinix/marketcap/\"><div class=\"company-name\">Equinix</div><div class=\"company-code\"><span class=\"rank d-none\"></span>EQIX</div></a></div></td><td class=\"td-right\" data-sort=\"75928526848\">$75.92 B</td><td class=\"td-right\" data-sort=\"81186.8\">$811.87</td><td class=\"rh-sm\" data-sort=\"17\"><span class=\"percentage-green\"><svg class=\"a\" viewbox=\"0 0 12 12\"><path d=\"M10 8H2l4-4 4 4z\"></path></svg>0.17%</span></td><td class=\"p-0 sparkline-td green\"><svg><path d=\"M0,37 5,41 10,35 15,34 20,23 25,21 30,22 35,22 40,21 45,28 50,39 55,40 60,32 65,29 70,27 75,23 80,19 85,19 90,19 95,15 100,20 105,25 110,19 115,17 120,15 125,9 130,7 135,6 140,12 145,3 150,4 155,5\"></path></svg></td><td>🇺🇸 <span class=\"responsive-hidden\">USA</span></td><td class=\"rank-td td-right\" data-sort=\"43\">43</td><td class=\"name-td\"><div class=\"logo-container\"><img alt=\"Palo Alto Networks\n",
       "  logo\" class=\"company-logo\" loading=\"lazy\" src=\"/img/company-logos/64/PANW.png\"/></div><div class=\"name-div\"><a href=\"/palo-alto-networks/marketcap/\"><div class=\"company-name\">Palo Alto Networks\n",
       " </div><div class=\"company-code\"><span class=\"rank d-none\"></span>PANW</div></a></div></td><td class=\"td-right\" data-sort=\"74900832256\">$74.90 B</td><td class=\"td-right\" data-sort=\"24489\">$244.89</td><td class=\"rh-sm\" data-sort=\"117\"><span class=\"percentage-green\"><svg class=\"a\" viewbox=\"0 0 12 12\"><path d=\"M10 8H2l4-4 4 4z\"></path></svg>1.17%</span></td><td class=\"p-0 sparkline-td green\"><svg><path d=\"M0,38 5,41 10,32 15,27 20,22 25,17 30,14 35,14 40,19 45,22 50,12 55,17 60,17 65,9 70,7 75,8 80,5 85,6 90,6 95,3 100,8 105,13 110,13 115,11 120,28 125,22 130,20 135,11 140,13 145,15 150,19 155,15\"></path></svg></td><td>🇺🇸 <span class=\"responsive-hidden\">USA</span></td><td class=\"rank-td td-right\" data-sort=\"44\">44</td><td class=\"name-td\"><div class=\"logo-container\"><img alt=\"Activision Blizzard logo\" class=\"company-logo\" data-img-dark-path=\"/img/company-logos/64/ATVI.D.png\" data-img-path=\"/img/company-logos/64/ATVI.png\" loading=\"lazy\" src=\"/img/company-logos/64/ATVI.png\"/></div><div class=\"name-div\"><a href=\"/activision-blizzard/marketcap/\"><div class=\"company-name\">Activision Blizzard</div><div class=\"company-code\"><span class=\"rank d-none\"></span>ATVI</div></a></div></td><td class=\"td-right\" data-sort=\"72546746368\">$72.54 B</td><td class=\"td-right\" data-sort=\"9228\">$92.28</td><td class=\"rh-sm\" data-sort=\"-1\"><span class=\"percentage-red\"><svg class=\"a\" viewbox=\"0 0 12 12\"><path d=\"m2 4h8l-4 4z\"></path></svg>0.01%</span></td><td class=\"p-0 sparkline-td green\"><svg><path d=\"M0,40 5,39 10,41 15,38 20,37 25,36 30,35 35,35 40,35 45,38 50,34 55,35 60,31 65,29 70,30 75,32 80,28 85,31 90,31 95,32 100,33 105,33 110,33 115,9 120,12 125,13 130,12 135,3 140,4 145,6 150,6 155,6\"></path></svg></td><td>🇺🇸 <span class=\"responsive-hidden\">USA</span></td><td class=\"rank-td td-right\" data-sort=\"45\" moves=\"1\">45</td><td class=\"name-td\"><div class=\"logo-container\"><img alt=\"Micron Technology logo\" class=\"company-logo\" data-img-dark-path=\"/img/company-logos/64/MU.D.png\" data-img-path=\"/img/company-logos/64/MU.png\" loading=\"lazy\" src=\"/img/company-logos/64/MU.png\"/></div><div class=\"name-div\"><a href=\"/micron-technology/marketcap/\"><div class=\"company-name\">Micron Technology</div><div class=\"company-code\"><span class=\"rank d-none\"></span>MU</div></a></div></td><td class=\"td-right\" data-sort=\"70712565760\">$70.71 B</td><td class=\"td-right\" data-sort=\"6456\">$64.56</td><td class=\"rh-sm\" data-sort=\"-20\"><span class=\"percentage-red\"><svg class=\"a\" viewbox=\"0 0 12 12\"><path d=\"m2 4h8l-4 4z\"></path></svg>0.20%</span></td><td class=\"p-0 sparkline-td red\"><svg><path d=\"M0,20 5,20 10,10 15,9 20,3 25,4 30,10 35,10 40,13 45,18 50,16 55,20 60,19 65,13 70,12 75,24 80,30 85,26 90,26 95,35 100,38 105,41 110,33 115,28 120,27 125,24 130,26 135,21 140,22 145,22 150,23 155,21\"></path></svg></td><td>🇺🇸 <span class=\"responsive-hidden\">USA</span></td><td class=\"rank-td td-right\" data-sort=\"46\" moves=\"-1\">46</td><td class=\"name-td\"><div class=\"logo-container\"><img alt=\"Vmware logo\" class=\"company-logo\" data-img-dark-path=\"/img/company-logos/64/VMW.D.png\" data-img-path=\"/img/company-logos/64/VMW.png\" loading=\"lazy\" src=\"/img/company-logos/64/VMW.png\"/></div><div class=\"name-div\"><a href=\"/vmware/marketcap/\"><div class=\"company-name\">Vmware</div><div class=\"company-code\"><span class=\"rank d-none\"></span>VMW</div></a></div></td><td class=\"td-right\" data-sort=\"70358900736\">$70.35 B</td><td class=\"td-right\" data-sort=\"16349\">$163.49</td><td class=\"rh-sm\" data-sort=\"-17\"><span class=\"percentage-red\"><svg class=\"a\" viewbox=\"0 0 12 12\"><path d=\"m2 4h8l-4 4z\"></path></svg>0.17%</span></td><td class=\"p-0 sparkline-td green\"><svg><path d=\"M0,41 5,38 10,32 15,32 20,32 25,31 30,32 35,32 40,32 45,36 50,36 55,36 60,36 65,32 70,32 75,29 80,29 85,29 90,29 95,29 100,31 105,32 110,29 115,20 120,15 125,14 130,15 135,11 140,12 145,3 150,6 155,5\"></path></svg></td><td>🇺🇸 <span class=\"responsive-hidden\">USA</span></td><td class=\"rank-td td-right\" data-sort=\"47\">47</td><td class=\"name-td\"><div class=\"logo-container\"><img alt=\"Synopsys logo\" class=\"company-logo\" data-img-dark-path=\"/img/company-logos/64/SNPS.D.png\" data-img-path=\"/img/company-logos/64/SNPS.png\" loading=\"lazy\" src=\"/img/company-logos/64/SNPS.png\"/></div><div class=\"name-div\"><a href=\"/synopsys/marketcap/\"><div class=\"company-name\">Synopsys</div><div class=\"company-code\"><span class=\"rank d-none\"></span>SNPS</div></a></div></td><td class=\"td-right\" data-sort=\"69033467904\">$69.03 B</td><td class=\"td-right\" data-sort=\"45369\">$453.69</td><td class=\"rh-sm\" data-sort=\"44\"><span class=\"percentage-green\"><svg class=\"a\" viewbox=\"0 0 12 12\"><path d=\"M10 8H2l4-4 4 4z\"></path></svg>0.44%</span></td><td class=\"p-0 sparkline-td green\"><svg><path d=\"M0,24 5,23 10,17 15,14 20,17 25,17 30,21 35,21 40,26 45,33 50,34 55,39 60,41 65,33 70,33 75,32 80,26 85,27 90,27 95,28 100,29 105,29 110,17 115,23 120,21 125,15 130,10 135,4 140,3 145,8 150,12 155,9\"></path></svg></td><td>🇺🇸 <span class=\"responsive-hidden\">USA</span></td><td class=\"rank-td td-right\" data-sort=\"48\" moves=\"2\">48</td><td class=\"name-td\"><div class=\"logo-container\"><img alt=\"Cadence Design Systems logo\" class=\"company-logo\" data-img-dark-path=\"/img/company-logos/64/CDNS.D.png\" data-img-path=\"/img/company-logos/64/CDNS.png\" loading=\"lazy\" src=\"/img/company-logos/64/CDNS.png\"/></div><div class=\"name-div\"><a href=\"/cadence-design-systems/marketcap/\"><div class=\"company-name\">Cadence Design Systems</div><div class=\"company-code\"><span class=\"rank d-none\"></span>CDNS</div></a></div></td><td class=\"td-right\" data-sort=\"66145636352\">$66.14 B</td><td class=\"td-right\" data-sort=\"24257.2\">$242.57</td><td class=\"rh-sm\" data-sort=\"158\"><span class=\"percentage-green\"><svg class=\"a\" viewbox=\"0 0 12 12\"><path d=\"M10 8H2l4-4 4 4z\"></path></svg>1.58%</span></td><td class=\"p-0 sparkline-td green\"><svg><path d=\"M0,32 5,30 10,23 15,13 20,18 25,15 30,18 35,18 40,24 45,32 50,34 55,37 60,41 65,31 70,30 75,31 80,21 85,19 90,19 95,24 100,28 105,34 110,21 115,25 120,24 125,12 130,10 135,3 140,4 145,6 150,13 155,5\"></path></svg></td><td>🇺🇸 <span class=\"responsive-hidden\">USA</span></td><td class=\"rank-td td-right\" data-sort=\"49\">49</td><td class=\"name-td\"><div class=\"logo-container\"><img alt=\"NetEase logo\" class=\"company-logo\" data-img-dark-path=\"/img/company-logos/64/NTES.D.png\" data-img-path=\"/img/company-logos/64/NTES.png\" loading=\"lazy\" src=\"/img/company-logos/64/NTES.png\"/></div><div class=\"name-div\"><a href=\"/netease/marketcap/\"><div class=\"company-name\">NetEase</div><div class=\"company-code\"><span class=\"rank d-none\"></span>NTES</div></a></div></td><td class=\"td-right\" data-sort=\"65912532992\">$65.91 B</td><td class=\"td-right\" data-sort=\"10198\">$101.98</td><td class=\"rh-sm\" data-sort=\"-50\"><span class=\"percentage-red\"><svg class=\"a\" viewbox=\"0 0 12 12\"><path d=\"m2 4h8l-4 4z\"></path></svg>0.50%</span></td><td class=\"p-0 sparkline-td green\"><svg><path d=\"M0,41 5,41 10,38 15,32 20,24 25,25 30,24 35,24 40,33 45,33 50,35 55,39 60,40 65,28 70,30 75,25 80,29 85,22 90,22 95,25 100,31 105,29 110,27 115,24 120,12 125,6 130,5 135,3 140,11 145,12 150,13 155,13\"></path></svg></td><td>🇨🇳 <span class=\"responsive-hidden\">China</span></td><td class=\"rank-td td-right\" data-sort=\"50\" moves=\"-2\">50</td><td class=\"name-td\"><div class=\"logo-container\"><img alt=\"Tokyo Electron logo\" class=\"company-logo\" loading=\"lazy\" src=\"/img/company-logos/64/8035.T.png\"/></div><div class=\"name-div\"><a href=\"/tokyo-electron/marketcap/\"><div class=\"company-name\">Tokyo Electron</div><div class=\"company-code\"><span class=\"rank d-none\"></span>8035.T</div></a></div></td><td class=\"td-right\" data-sort=\"64745293388\">$64.74 B</td><td class=\"td-right\" data-sort=\"13838\">$138.38</td><td class=\"rh-sm\" data-sort=\"-562\"><span class=\"percentage-red\"><svg class=\"a\" viewbox=\"0 0 12 12\"><path d=\"m2 4h8l-4 4z\"></path></svg>5.62%</span></td><td class=\"p-0 sparkline-td green\"><svg><path d=\"M0,41 5,39 10,39 15,25 20,25 25,19 30,18 35,25 40,23 45,15 50,29 55,27 60,29 65,28 70,20 75,12 80,15 85,3 90,3 95,4 100,16 105,20 110,25 115,22 120,32 125,26 130,21 135,21 140,18 145,13 150,17 155,34\"></path></svg></td><td>🇯🇵 <span class=\"responsive-hidden\">Japan</span></td><td class=\"rank-td td-right\" data-sort=\"51\">51</td><td class=\"name-td\"><div class=\"logo-container\"><img alt=\"SK Hynix logo\" class=\"company-logo\" loading=\"lazy\" src=\"/img/company-logos/64/000660.KS.png\"/></div><div class=\"name-div\"><a href=\"/sk-hynix/marketcap/\"><div class=\"company-name\">SK Hynix</div><div class=\"company-code\"><span class=\"rank d-none\"></span>000660.KS</div></a></div></td><td class=\"td-right\" data-sort=\"64176053923\">$64.17 B</td><td class=\"td-right\" data-sort=\"9062\">$90.62</td><td class=\"rh-sm\" data-sort=\"-154\"><span class=\"percentage-red\"><svg class=\"a\" viewbox=\"0 0 12 12\"><path d=\"m2 4h8l-4 4z\"></path></svg>1.54%</span></td><td class=\"p-0 sparkline-td green\"><svg><path d=\"M0,41 5,19 10,21 15,3 20,6 25,5 30,5 35,21 40,16 45,20 50,24 55,26 60,26 65,28 70,23 75,16 80,20 85,10 90,9 95,14 100,25 105,33 110,39 115,27 120,19 125,24 130,9 135,12 140,10 145,11 150,13 155,20\"></path></svg></td><td>🇰🇷 <span class=\"responsive-hidden\">S. Korea</span></td><td class=\"rank-td td-right\" data-sort=\"52\">52</td><td class=\"name-td\"><div class=\"logo-container\"><img alt=\"KLA logo\" class=\"company-logo\" loading=\"lazy\" src=\"/img/company-logos/64/KLAC.png\"/></div><div class=\"name-div\"><a href=\"/kla/marketcap/\"><div class=\"company-name\">KLA</div><div class=\"company-code\"><span class=\"rank d-none\"></span>KLAC</div></a></div></td><td class=\"td-right\" data-sort=\"62368608256\">$62.36 B</td><td class=\"td-right\" data-sort=\"45458.5\">$454.58</td><td class=\"rh-sm\" data-sort=\"100\"><span class=\"percentage-green\"><svg class=\"a\" viewbox=\"0 0 12 12\"><path d=\"M10 8H2l4-4 4 4z\"></path></svg>1.00%</span></td><td class=\"p-0 sparkline-td red\"><svg><path d=\"M0,19 5,26 10,17 15,13 20,12 25,20 30,27 35,27 40,27 45,35 50,25 55,35 60,33 65,16 70,18 75,15 80,8 85,8 90,8 95,24 100,30 105,36 110,24 115,32 120,26 125,17 130,18 135,3 140,9 145,22 150,41 155,33\"></path></svg></td><td>🇺🇸 <span class=\"responsive-hidden\">USA</span></td><td class=\"rank-td td-right\" data-sort=\"53\">53</td><td class=\"name-td\"><div class=\"logo-container\"><img alt=\"Fortinet logo\" class=\"company-logo\" loading=\"lazy\" src=\"/img/company-logos/64/FTNT.png\"/></div><div class=\"name-div\"><a href=\"/fortinet/marketcap/\"><div class=\"company-name\">Fortinet</div><div class=\"company-code\"><span class=\"rank d-none\"></span>FTNT</div></a></div></td><td class=\"td-right\" data-sort=\"61567221760\">$61.56 B</td><td class=\"td-right\" data-sort=\"7841\">$78.41</td><td class=\"rh-sm\" data-sort=\"91\"><span class=\"percentage-green\"><svg class=\"a\" viewbox=\"0 0 12 12\"><path d=\"M10 8H2l4-4 4 4z\"></path></svg>0.91%</span></td><td class=\"p-0 sparkline-td green\"><svg><path d=\"M0,38 5,41 10,35 15,33 20,30 25,24 30,26 35,26 40,30 45,31 50,29 55,30 60,32 65,24 70,21 75,19 80,18 85,20 90,20 95,21 100,20 105,20 110,10 115,9 120,14 125,9 130,7 135,3 140,3 145,8 150,11 155,8\"></path></svg></td><td>🇺🇸 <span class=\"responsive-hidden\">USA</span></td><td class=\"rank-td td-right\" data-sort=\"54\" moves=\"2\">54</td><td class=\"name-td\"><div class=\"logo-container\"><img alt=\"Workday logo\" class=\"company-logo\" data-img-dark-path=\"/img/company-logos/64/WDAY.D.png\" data-img-path=\"/img/company-logos/64/WDAY.png\" loading=\"lazy\" src=\"/img/company-logos/64/WDAY.png\"/></div><div class=\"name-div\"><a href=\"/workday/marketcap/\"><div class=\"company-name\">Workday</div><div class=\"company-code\"><span class=\"rank d-none\"></span>WDAY</div></a></div></td><td class=\"td-right\" data-sort=\"61044985856\">$61.04 B</td><td class=\"td-right\" data-sort=\"22444\">$224.44</td><td class=\"rh-sm\" data-sort=\"95\"><span class=\"percentage-green\"><svg class=\"a\" viewbox=\"0 0 12 12\"><path d=\"M10 8H2l4-4 4 4z\"></path></svg>0.95%</span></td><td class=\"p-0 sparkline-td green\"><svg><path d=\"M0,41 5,41 10,34 15,28 20,23 25,13 30,16 35,16 40,14 45,19 50,18 55,16 60,19 65,13 70,15 75,9 80,11 85,13 90,13 95,16 100,20 105,21 110,16 115,17 120,21 125,20 130,14 135,8 140,8 145,3 150,16 155,13\"></path></svg></td><td>🇺🇸 <span class=\"responsive-hidden\">USA</span></td><td class=\"rank-td td-right\" data-sort=\"55\">55</td><td class=\"name-td\"><div class=\"logo-container\"><img alt=\"MercadoLibre logo\" class=\"company-logo\" loading=\"lazy\" src=\"/img/company-logos/64/MELI.png\"/></div><div class=\"name-div\"><a href=\"/mercadolibre/marketcap/\"><div class=\"company-name\">MercadoLibre</div><div class=\"company-code\"><span class=\"rank d-none\"></span>MELI</div></a></div></td><td class=\"td-right\" data-sort=\"60901314560\">$60.90 B</td><td class=\"td-right\" data-sort=\"121299\">$1,213</td><td class=\"rh-sm\" data-sort=\"122\"><span class=\"percentage-green\"><svg class=\"a\" viewbox=\"0 0 12 12\"><path d=\"M10 8H2l4-4 4 4z\"></path></svg>1.22%</span></td><td class=\"p-0 sparkline-td green\"><svg><path d=\"M0,12 5,12 10,5 15,12 20,11 25,9 30,15 35,15 40,15 45,12 50,4 55,8 60,25 65,23 70,12 75,21 80,18 85,16 90,16 95,3 100,25 105,25 110,41 115,33 120,28 125,27 130,29 135,19 140,12 145,8 150,15 155,11\"></path></svg></td><td>🇦🇷 <span class=\"responsive-hidden\">Argentina</span></td><td class=\"rank-td td-right\" data-sort=\"56\" moves=\"1\">56</td><td class=\"name-td\"><div class=\"logo-container\"><img alt=\"Dassault Systèmes logo\" class=\"company-logo\" data-img-dark-path=\"/img/company-logos/64/DSY.PA.D.png\" data-img-path=\"/img/company-logos/64/DSY.PA.png\" loading=\"lazy\" src=\"/img/company-logos/64/DSY.PA.png\"/></div><div class=\"name-div\"><a href=\"/dassault-systemes/marketcap/\"><div class=\"company-name\">Dassault Systèmes</div><div class=\"company-code\"><span class=\"rank d-none\"></span>DSY.PA</div></a></div></td><td class=\"td-right\" data-sort=\"59997438134\">$59.99 B</td><td class=\"td-right\" data-sort=\"4546\">$45.46</td><td class=\"rh-sm\" data-sort=\"-41\"><span class=\"percentage-red\"><svg class=\"a\" viewbox=\"0 0 12 12\"><path d=\"m2 4h8l-4 4z\"></path></svg>0.41%</span></td><td class=\"p-0 sparkline-td red\"><svg><path d=\"M0,5 5,22 10,13 15,6 20,11 25,12 30,3 35,9 40,11 45,20 50,23 55,30 60,35 65,41 70,29 75,29 80,15 85,23 90,20 95,27 100,41 105,40 110,37 115,34 120,21 125,12 130,11 135,12 140,13 145,3 150,14 155,17\"></path></svg></td><td>🇫🇷 <span class=\"responsive-hidden\">France</span></td><td class=\"rank-td td-right\" data-sort=\"57\" moves=\"2\">57</td><td class=\"name-td\"><div class=\"logo-container\"><img alt=\"Jingdong Mall logo\" class=\"company-logo\" loading=\"lazy\" src=\"/img/company-logos/64/JD.png\"/></div><div class=\"name-div\"><a href=\"/jingdong-mall/marketcap/\"><div class=\"company-name\">Jingdong Mall</div><div class=\"company-code\"><span class=\"rank d-none\"></span>JD</div></a></div></td><td class=\"td-right\" data-sort=\"58572869632\">$58.57 B</td><td class=\"td-right\" data-sort=\"3728.5\">$37.28</td><td class=\"rh-sm\" data-sort=\"168\"><span class=\"percentage-green\"><svg class=\"a\" viewbox=\"0 0 12 12\"><path d=\"M10 8H2l4-4 4 4z\"></path></svg>1.68%</span></td><td class=\"p-0 sparkline-td green\"><svg><path d=\"M0,20 5,25 10,24 15,16 20,11 25,3 30,4 35,4 40,21 45,25 50,25 55,36 60,35 65,30 70,36 75,41 80,40 85,34 90,34 95,33 100,41 105,30 110,29 115,28 120,19 125,7 130,15 135,17 140,28 145,26 150,24 155,19\"></path></svg></td><td>🇨🇳 <span class=\"responsive-hidden\">China</span></td><td class=\"rank-td td-right\" data-sort=\"58\" moves=\"-4\">58</td><td class=\"name-td\"><div class=\"logo-container\"><img alt=\"Snowflake logo\" class=\"company-logo\" loading=\"lazy\" src=\"/img/company-logos/64/SNOW.png\"/></div><div class=\"name-div\"><a href=\"/snowflake/marketcap/\"><div class=\"company-name\">Snowflake</div><div class=\"company-code\"><span class=\"rank d-none\"></span>SNOW</div></a></div></td><td class=\"td-right\" data-sort=\"58338091008\">$58.33 B</td><td class=\"td-right\" data-sort=\"17900.6\">$179.01</td><td class=\"rh-sm\" data-sort=\"152\"><span class=\"percentage-green\"><svg class=\"a\" viewbox=\"0 0 12 12\"><path d=\"M10 8H2l4-4 4 4z\"></path></svg>1.52%</span></td><td class=\"p-0 sparkline-td green\"><svg><path d=\"M0,33 5,39 10,37 15,34 20,21 25,3 30,15 35,15 40,24 45,34 50,25 55,26 60,41 65,28 70,16 75,30 80,30 85,28 90,28 95,36 100,36 105,39 110,41 115,37 120,37 125,15 130,21 135,15 140,8 145,13 150,29 155,23\"></path></svg></td><td>🇺🇸 <span class=\"responsive-hidden\">USA</span></td><td class=\"rank-td td-right\" data-sort=\"59\" moves=\"-1\">59</td><td class=\"name-td\"><div class=\"logo-container\"><img alt=\"NXP Semiconductors logo\" class=\"company-logo\" loading=\"lazy\" src=\"/img/company-logos/64/NXPI.png\"/></div><div class=\"name-div\"><a href=\"/nxp-semiconductors/marketcap/\"><div class=\"company-name\">NXP Semiconductors</div><div class=\"company-code\"><span class=\"rank d-none\"></span>NXPI</div></a></div></td><td class=\"td-right\" data-sort=\"55415730176\">$55.41 B</td><td class=\"td-right\" data-sort=\"21334.8\">$213.35</td><td class=\"rh-sm\" data-sort=\"66\"><span class=\"percentage-green\"><svg class=\"a\" viewbox=\"0 0 12 12\"><path d=\"M10 8H2l4-4 4 4z\"></path></svg>0.66%</span></td><td class=\"p-0 sparkline-td green\"><svg><path d=\"M0,39 5,41 10,37 15,30 20,30 25,30 30,28 35,28 40,31 45,33 50,32 55,37 60,34 65,26 70,29 75,26 80,22 85,19 90,19 95,23 100,22 105,22 110,16 115,15 120,15 125,10 130,14 135,7 140,3 145,6 150,15 155,12\"></path></svg></td><td>🇳🇱 <span class=\"responsive-hidden\">Netherlands</span></td><td class=\"rank-td td-right\" data-sort=\"60\">60</td><td class=\"name-td\"><div class=\"logo-container\"><img alt=\"Marvell Technology Group logo\" class=\"company-logo\" data-img-dark-path=\"/img/company-logos/64/MRVL.D.png\" data-img-path=\"/img/company-logos/64/MRVL.png\" loading=\"lazy\" src=\"/img/company-logos/64/MRVL.png\"/></div><div class=\"name-div\"><a href=\"/marvell/marketcap/\"><div class=\"company-name\">Marvell Technology Group</div><div class=\"company-code\"><span class=\"rank d-none\"></span>MRVL</div></a></div></td><td class=\"td-right\" data-sort=\"54799200256\">$54.79 B</td><td class=\"td-right\" data-sort=\"6372\">$63.72</td><td class=\"rh-sm\" data-sort=\"79\"><span class=\"percentage-green\"><svg class=\"a\" viewbox=\"0 0 12 12\"><path d=\"M10 8H2l4-4 4 4z\"></path></svg>0.79%</span></td><td class=\"p-0 sparkline-td green\"><svg><path d=\"M0,32 5,30 10,21 15,16 20,16 25,21 30,25 35,25 40,26 45,36 50,35 55,41 60,41 65,28 70,30 75,38 80,31 85,24 90,24 95,31 100,36 105,34 110,29 115,20 120,17 125,5 130,14 135,9 140,3 145,4 150,15 155,10\"></path></svg></td><td>🇺🇸 <span class=\"responsive-hidden\">USA</span></td><td class=\"rank-td td-right\" data-sort=\"61\" moves=\"1\">61</td><td class=\"name-td\"><div class=\"logo-container\"><img alt=\"Adyen logo\" class=\"company-logo\" data-img-dark-path=\"/img/company-logos/64/ADYEN.AS.D.png\" data-img-path=\"/img/company-logos/64/ADYEN.AS.png\" loading=\"lazy\" src=\"/img/company-logos/64/ADYEN.AS.png\"/></div><div class=\"name-div\"><a href=\"/adyen/marketcap/\"><div class=\"company-name\">Adyen</div><div class=\"company-code\"><span class=\"rank d-none\"></span>ADYEN.AS</div></a></div></td><td class=\"td-right\" data-sort=\"53911389391\">$53.91 B</td><td class=\"td-right\" data-sort=\"173848\">$1,738</td><td class=\"rh-sm\" data-sort=\"-44\"><span class=\"percentage-red\"><svg class=\"a\" viewbox=\"0 0 12 12\"><path d=\"m2 4h8l-4 4z\"></path></svg>0.44%</span></td><td class=\"p-0 sparkline-td red\"><svg><path d=\"M0,13 5,14 10,12 15,9 20,3 25,4 30,14 35,16 40,23 45,29 50,20 55,23 60,23 65,20 70,9 75,16 80,12 85,14 90,12 95,25 100,40 105,41 110,38 115,33 120,28 125,20 130,16 135,21 140,21 145,18 150,19 155,21\"></path></svg></td><td>🇳🇱 <span class=\"responsive-hidden\">Netherlands</span></td><td class=\"rank-td td-right\" data-sort=\"62\" moves=\"2\">62</td><td class=\"name-td\"><div class=\"logo-container\"><img alt=\"Infineon logo\" class=\"company-logo\" loading=\"lazy\" src=\"/img/company-logos/64/IFX.DE.png\"/></div><div class=\"name-div\"><a href=\"/infineon/marketcap/\"><div class=\"company-name\">Infineon</div><div class=\"company-code\"><span class=\"rank d-none\"></span>IFX.DE</div></a></div></td><td class=\"td-right\" data-sort=\"53879460159\">$53.87 B</td><td class=\"td-right\" data-sort=\"4136\">$41.36</td><td class=\"rh-sm\" data-sort=\"38\"><span class=\"percentage-green\"><svg class=\"a\" viewbox=\"0 0 12 12\"><path d=\"M10 8H2l4-4 4 4z\"></path></svg>0.38%</span></td><td class=\"p-0 sparkline-td green\"><svg><path d=\"M0,26 5,24 10,14 15,8 20,3 25,4 30,11 35,11 40,19 45,22 50,21 55,35 60,34 65,38 70,32 75,26 80,14 85,20 90,18 95,26 100,41 105,35 110,30 115,28 120,16 125,7 130,6 135,12 140,13 145,18 150,25 155,24\"></path></svg></td><td>🇩🇪 <span class=\"responsive-hidden\">Germany</span></td><td class=\"rank-td td-right\" data-sort=\"63\">63</td><td class=\"name-td\"><div class=\"logo-container\"><img alt=\"Nintendo\n",
       "  logo\" class=\"company-logo\" loading=\"lazy\" src=\"/img/company-logos/64/7974.T.png\"/></div><div class=\"name-div\"><a href=\"/nintendo/marketcap/\"><div class=\"company-name\">Nintendo\n",
       " </div><div class=\"company-code\"><span class=\"rank d-none\"></span>7974.T</div></a></div></td><td class=\"td-right\" data-sort=\"53759553401\">$53.75 B</td><td class=\"td-right\" data-sort=\"4602\">$46.02</td><td class=\"rh-sm\" data-sort=\"-12\"><span class=\"percentage-red\"><svg class=\"a\" viewbox=\"0 0 12 12\"><path d=\"m2 4h8l-4 4z\"></path></svg>0.12%</span></td><td class=\"p-0 sparkline-td green\"><svg><path d=\"M0,41 5,34 10,32 15,29 20,30 25,26 30,23 35,25 40,25 45,27 50,20 55,25 60,22 65,15 70,7 75,3 80,6 85,3 90,7 95,8 100,20 105,18 110,21 115,24 120,21 125,13 130,15 135,15 140,17 145,13 150,13 155,14\"></path></svg></td><td>🇯🇵 <span class=\"responsive-hidden\">Japan</span></td><td class=\"rank-td td-right\" data-sort=\"64\" moves=\"1\">64</td><td class=\"name-td\"><div class=\"logo-container\"><img alt=\"Roper Technologies logo\" class=\"company-logo\" data-img-dark-path=\"/img/company-logos/64/ROP.D.png\" data-img-path=\"/img/company-logos/64/ROP.png\" loading=\"lazy\" src=\"/img/company-logos/64/ROP.png\"/></div><div class=\"name-div\"><a href=\"/roper-technologies/marketcap/\"><div class=\"company-name\">Roper Technologies</div><div class=\"company-code\"><span class=\"rank d-none\"></span>ROP</div></a></div></td><td class=\"td-right\" data-sort=\"53408866304\">$53.40 B</td><td class=\"td-right\" data-sort=\"49998\">$499.98</td><td class=\"rh-sm\" data-sort=\"382\"><span class=\"percentage-green\"><svg class=\"a\" viewbox=\"0 0 12 12\"><path d=\"M10 8H2l4-4 4 4z\"></path></svg>3.82%</span></td><td class=\"p-0 sparkline-td green\"><svg><path d=\"M0,41 5,41 10,39 15,38 20,37 25,33 30,35 35,35 40,38 45,37 50,33 55,34 60,34 65,25 70,25 75,21 80,17 85,20 90,20 95,20 100,20 105,21 110,21 115,20 120,20 125,19 130,20 135,21 140,18 145,16 150,17 155,3\"></path></svg></td><td>🇺🇸 <span class=\"responsive-hidden\">USA</span></td><td class=\"rank-td td-right\" data-sort=\"65\" moves=\"-4\">65</td><td class=\"name-td\"><div class=\"logo-container\"><img alt=\"Arista Networks logo\" class=\"company-logo\" data-img-dark-path=\"/img/company-logos/64/ANET.D.png\" data-img-path=\"/img/company-logos/64/ANET.png\" loading=\"lazy\" src=\"/img/company-logos/64/ANET.png\"/></div><div class=\"name-div\"><a href=\"/arista-networks/marketcap/\"><div class=\"company-name\">Arista Networks</div><div class=\"company-code\"><span class=\"rank d-none\"></span>ANET</div></a></div></td><td class=\"td-right\" data-sort=\"53295968256\">$53.29 B</td><td class=\"td-right\" data-sort=\"17288\">$172.88</td><td class=\"rh-sm\" data-sort=\"86\"><span class=\"percentage-green\"><svg class=\"a\" viewbox=\"0 0 12 12\"><path d=\"M10 8H2l4-4 4 4z\"></path></svg>0.86%</span></td><td class=\"p-0 sparkline-td green\"><svg><path d=\"M0,22 5,22 10,12 15,14 20,13 25,21 30,29 35,29 40,33 45,37 50,35 55,41 60,38 65,31 70,31 75,27 80,23 85,26 90,26 95,26 100,27 105,28 110,26 115,25 120,20 125,14 130,18 135,11 140,7 145,3 150,10 155,7\"></path></svg></td><td>🇺🇸 <span class=\"responsive-hidden\">USA</span></td><td class=\"rank-td td-right\" data-sort=\"66\" moves=\"1\">66</td><td class=\"name-td\"><div class=\"logo-container\"><img alt=\"Baidu logo\" class=\"company-logo\" data-img-dark-path=\"/img/company-logos/64/BIDU.D.png\" data-img-path=\"/img/company-logos/64/BIDU.png\" loading=\"lazy\" src=\"/img/company-logos/64/BIDU.png\"/></div><div class=\"name-div\"><a href=\"/baidu/marketcap/\"><div class=\"company-name\">Baidu</div><div class=\"company-code\"><span class=\"rank d-none\"></span>BIDU</div></a></div></td><td class=\"td-right\" data-sort=\"50249715712\">$50.24 B</td><td class=\"td-right\" data-sort=\"14272\">$142.72</td><td class=\"rh-sm\" data-sort=\"-22\"><span class=\"percentage-red\"><svg class=\"a\" viewbox=\"0 0 12 12\"><path d=\"m2 4h8l-4 4z\"></path></svg>0.22%</span></td><td class=\"p-0 sparkline-td green\"><svg><path d=\"M0,41 5,37 10,39 15,23 20,13 25,10 30,17 35,17 40,21 45,26 50,24 55,29 60,29 65,20 70,24 75,39 80,34 85,21 90,21 95,24 100,31 105,22 110,22 115,21 120,10 125,3 130,9 135,8 140,19 145,20 150,22 155,20\"></path></svg></td><td>🇨🇳 <span class=\"responsive-hidden\">China</span></td><td class=\"rank-td td-right\" data-sort=\"67\" moves=\"1\">67</td><td class=\"name-td\"><div class=\"logo-container\"><img alt=\"Microchip Technology logo\" class=\"company-logo\" loading=\"lazy\" src=\"/img/company-logos/64/MCHP.png\"/></div><div class=\"name-div\"><a href=\"/microchip-technology/marketcap/\"><div class=\"company-name\">Microchip Technology</div><div class=\"company-code\"><span class=\"rank d-none\"></span>MCHP</div></a></div></td><td class=\"td-right\" data-sort=\"48603586560\">$48.60 B</td><td class=\"td-right\" data-sort=\"8929\">$89.29</td><td class=\"rh-sm\" data-sort=\"119\"><span class=\"percentage-green\"><svg class=\"a\" viewbox=\"0 0 12 12\"><path d=\"M10 8H2l4-4 4 4z\"></path></svg>1.19%</span></td><td class=\"p-0 sparkline-td green\"><svg><path d=\"M0,39 5,41 10,33 15,25 20,22 25,26 30,25 35,25 40,29 45,33 50,32 55,36 60,33 65,22 70,24 75,21 80,14 85,11 90,11 95,17 100,21 105,22 110,16 115,17 120,11 125,6 130,13 135,6 140,3 145,8 150,18 155,13\"></path></svg></td><td>🇺🇸 <span class=\"responsive-hidden\">USA</span></td><td class=\"rank-td td-right\" data-sort=\"68\" moves=\"1\">68</td><td class=\"name-td\"><div class=\"logo-container\"><img alt=\"Foxconn (Hon Hai Precision Industry) logo\" class=\"company-logo\" loading=\"lazy\" src=\"/img/company-logos/64/2317.TW.png\"/></div><div class=\"name-div\"><a href=\"/foxconn/marketcap/\"><div class=\"company-name\">Foxconn (Hon Hai Precision Industry)</div><div class=\"company-code\"><span class=\"rank d-none\"></span>2317.TW</div></a></div></td><td class=\"td-right\" data-sort=\"47958268081\">$47.95 B</td><td class=\"td-right\" data-sort=\"346\">$3.46</td><td class=\"rh-sm\" data-sort=\"-46\"><span class=\"percentage-red\"><svg class=\"a\" viewbox=\"0 0 12 12\"><path d=\"m2 4h8l-4 4z\"></path></svg>0.46%</span></td><td class=\"p-0 sparkline-td green\"><svg><path d=\"M0,32 5,29 10,20 15,13 20,13 25,17 30,19 35,13 40,13 45,12 50,12 55,12 60,3 65,8 70,5 75,12 80,12 85,5 90,22 95,27 100,38 105,38 110,41 115,39 120,31 125,32 130,24 135,20 140,15 145,27 150,29 155,31\"></path></svg></td><td>🇹🇼 <span class=\"responsive-hidden\">Taiwan</span></td><td class=\"rank-td td-right\" data-sort=\"69\" moves=\"3\">69</td><td class=\"name-td\"><div class=\"logo-container\"><img alt=\"STMicroelectronics logo\" class=\"company-logo\" data-img-dark-path=\"/img/company-logos/64/STM.D.png\" data-img-path=\"/img/company-logos/64/STM.png\" loading=\"lazy\" src=\"/img/company-logos/64/STM.png\"/></div><div class=\"name-div\"><a href=\"/stmicroelectronics/marketcap/\"><div class=\"company-name\">STMicroelectronics</div><div class=\"company-code\"><span class=\"rank d-none\"></span>STM</div></a></div></td><td class=\"td-right\" data-sort=\"47757361152\">$47.75 B</td><td class=\"td-right\" data-sort=\"5075.5\">$50.76</td><td class=\"rh-sm\" data-sort=\"11\"><span class=\"percentage-green\"><svg class=\"a\" viewbox=\"0 0 12 12\"><path d=\"M10 8H2l4-4 4 4z\"></path></svg>0.11%</span></td><td class=\"p-0 sparkline-td green\"><svg><path d=\"M0,38 5,37 10,27 15,25 20,20 25,22 30,22 35,22 40,28 45,34 50,33 55,41 60,37 65,32 70,31 75,29 80,22 85,20 90,20 95,27 100,36 105,33 110,28 115,25 120,13 125,3 130,8 135,7 140,5 145,10 150,18 155,16\"></path></svg></td><td>🇨🇭 <span class=\"responsive-hidden\">Switzerland</span></td><td class=\"rank-td td-right\" data-sort=\"70\" moves=\"1\">70</td><td class=\"name-td\"><div class=\"logo-container\"><img alt=\"Autodesk logo\" class=\"company-logo\" data-img-dark-path=\"/img/company-logos/64/ADSK.D.png\" data-img-path=\"/img/company-logos/64/ADSK.png\" loading=\"lazy\" src=\"/img/company-logos/64/ADSK.png\"/></div><div class=\"name-div\"><a href=\"/autodesk/marketcap/\"><div class=\"company-name\">Autodesk</div><div class=\"company-code\"><span class=\"rank d-none\"></span>ADSK</div></a></div></td><td class=\"td-right\" data-sort=\"46324490240\">$46.32 B</td><td class=\"td-right\" data-sort=\"21324.5\">$213.24</td><td class=\"rh-sm\" data-sort=\"108\"><span class=\"percentage-green\"><svg class=\"a\" viewbox=\"0 0 12 12\"><path d=\"M10 8H2l4-4 4 4z\"></path></svg>1.08%</span></td><td class=\"p-0 sparkline-td green\"><svg><path d=\"M0,41 5,39 10,27 15,18 20,17 25,3 30,17 35,17 40,20 45,27 50,29 55,38 60,40 65,29 70,30 75,30 80,33 85,35 90,35 95,34 100,39 105,38 110,28 115,20 120,14 125,12 130,16 135,17 140,10 145,7 150,22 155,15\"></path></svg></td><td>🇺🇸 <span class=\"responsive-hidden\">USA</span></td><td class=\"rank-td td-right\" data-sort=\"71\" moves=\"-1\">71</td><td class=\"name-td\"><div class=\"logo-container\"><img alt=\"Block logo\" class=\"company-logo\" loading=\"lazy\" src=\"/img/company-logos/64/SQ.png\"/></div><div class=\"name-div\"><a href=\"/square/marketcap/\"><div class=\"company-name\">Block</div><div class=\"company-code\"><span class=\"rank d-none\"></span>SQ</div></a></div></td><td class=\"td-right\" data-sort=\"45787602944\">$45.78 B</td><td class=\"td-right\" data-sort=\"7569.5\">$75.70</td><td class=\"rh-sm\" data-sort=\"-62\"><span class=\"percentage-red\"><svg class=\"a\" viewbox=\"0 0 12 12\"><path d=\"m2 4h8l-4 4z\"></path></svg>0.62%</span></td><td class=\"p-0 sparkline-td green\"><svg><path d=\"M0,34 5,34 10,36 15,33 20,37 25,31 30,31 35,31 40,30 45,33 50,36 55,39 60,41 65,36 70,34 75,35 80,30 85,31 90,31 95,25 100,35 105,29 110,25 115,20 120,20 125,9 130,11 135,5 140,3 145,5 150,9 155,8\"></path></svg></td><td>🇺🇸 <span class=\"responsive-hidden\">USA</span></td><td class=\"rank-td td-right\" data-sort=\"72\" moves=\"1\">72</td><td class=\"name-td\"><div class=\"logo-container\"><img alt=\"Constellation Software\n",
       "  logo\" class=\"company-logo\" loading=\"lazy\" src=\"/img/company-logos/64/CSU.TO.png\"/></div><div class=\"name-div\"><a href=\"/constellation-software/marketcap/\"><div class=\"company-name\">Constellation Software\n",
       " </div><div class=\"company-code\"><span class=\"rank d-none\"></span>CSU.TO</div></a></div></td><td class=\"td-right\" data-sort=\"45391697904\">$45.39 B</td><td class=\"td-right\" data-sort=\"214198\">$2,142</td><td class=\"rh-sm\" data-sort=\"54\"><span class=\"percentage-green\"><svg class=\"a\" viewbox=\"0 0 12 12\"><path d=\"M10 8H2l4-4 4 4z\"></path></svg>0.54%</span></td><td class=\"p-0 sparkline-td green\"><svg><path d=\"M0,26 5,24 10,15 15,15 20,14 25,16 30,21 35,23 40,26 45,28 50,34 55,32 60,34 65,27 70,20 75,24 80,16 85,16 90,15 95,25 100,33 105,32 110,41 115,38 120,41 125,28 130,25 135,15 140,7 145,4 150,6 155,3\"></path></svg></td><td>🇨🇦 <span class=\"responsive-hidden\">Canada</span></td><td class=\"rank-td td-right\" data-sort=\"73\" moves=\"-7\">73</td><td class=\"name-td\"><div class=\"logo-container\"><img alt=\"Atlassian logo\" class=\"company-logo\" data-img-dark-path=\"/img/company-logos/64/TEAM.D.png\" data-img-path=\"/img/company-logos/64/TEAM.png\" loading=\"lazy\" src=\"/img/company-logos/64/TEAM.png\"/></div><div class=\"name-div\"><a href=\"/atlassian/marketcap/\"><div class=\"company-name\">Atlassian</div><div class=\"company-code\"><span class=\"rank d-none\"></span>TEAM</div></a></div></td><td class=\"td-right\" data-sort=\"45228093440\">$45.22 B</td><td class=\"td-right\" data-sort=\"17598\">$175.98</td><td class=\"rh-sm\" data-sort=\"19\"><span class=\"percentage-green\"><svg class=\"a\" viewbox=\"0 0 12 12\"><path d=\"M10 8H2l4-4 4 4z\"></path></svg>0.19%</span></td><td class=\"p-0 sparkline-td green\"><svg><path d=\"M0,26 5,24 10,19 15,12 20,12 25,11 30,17 35,17 40,19 45,29 50,27 55,36 60,41 65,37 70,30 75,37 80,29 85,30 90,30 95,23 100,32 105,27 110,22 115,21 120,20 125,16 130,15 135,13 140,4 145,3 150,19 155,18\"></path></svg></td><td>🇦🇺 <span class=\"responsive-hidden\">Australia</span></td><td class=\"rank-td td-right\" data-sort=\"74\">74</td><td class=\"name-td\"><div class=\"logo-container\"><img alt=\"TE Connectivity\n",
       "  logo\" class=\"company-logo\" loading=\"lazy\" src=\"/img/company-logos/64/TEL.png\"/></div><div class=\"name-div\"><a href=\"/te-connectivity/marketcap/\"><div class=\"company-name\">TE Connectivity\n",
       " </div><div class=\"company-code\"><span class=\"rank d-none\"></span>TEL</div></a></div></td><td class=\"td-right\" data-sort=\"44500541440\">$44.50 B</td><td class=\"td-right\" data-sort=\"14122\">$141.22</td><td class=\"rh-sm\" data-sort=\"-51\"><span class=\"percentage-red\"><svg class=\"a\" viewbox=\"0 0 12 12\"><path d=\"m2 4h8l-4 4z\"></path></svg>0.51%</span></td><td class=\"p-0 sparkline-td green\"><svg><path d=\"M0,41 5,41 10,36 15,30 20,32 25,27 30,22 35,22 40,23 45,21 50,25 55,28 60,26 65,19 70,18 75,15 80,10 85,10 90,10 95,12 100,13 105,11 110,8 115,8 120,4 125,5 130,8 135,4 140,4 145,3 150,6 155,7\"></path></svg></td><td>🇨🇭 <span class=\"responsive-hidden\">Switzerland</span></td><td class=\"rank-td td-right\" data-sort=\"75\" moves=\"1\">75</td><td class=\"name-td\"><div class=\"logo-container\"><img alt=\"The Trade Desk\n",
       "  logo\" class=\"company-logo\" loading=\"lazy\" src=\"/img/company-logos/64/TTD.png\"/></div><div class=\"name-div\"><a href=\"/the-trade-desk/marketcap/\"><div class=\"company-name\">The Trade Desk\n",
       " </div><div class=\"company-code\"><span class=\"rank d-none\"></span>TTD</div></a></div></td><td class=\"td-right\" data-sort=\"43257217024\">$43.25 B</td><td class=\"td-right\" data-sort=\"8457\">$84.57</td><td class=\"rh-sm\" data-sort=\"20\"><span class=\"percentage-green\"><svg class=\"a\" viewbox=\"0 0 12 12\"><path d=\"M10 8H2l4-4 4 4z\"></path></svg>0.20%</span></td><td class=\"p-0 sparkline-td green\"><svg><path d=\"M0,41 5,41 10,39 15,34 20,36 25,35 30,37 35,37 40,38 45,36 50,36 55,37 60,39 65,36 70,32 75,34 80,35 85,34 90,34 95,35 100,39 105,38 110,38 115,22 120,18 125,12 130,9 135,3 140,8 145,9 150,18 155,17\"></path></svg></td><td>🇺🇸 <span class=\"responsive-hidden\">USA</span></td><td class=\"rank-td td-right\" data-sort=\"76\" moves=\"-1\">76</td><td class=\"name-td\"><div class=\"logo-container\"><img alt=\"ON Semiconductor logo\" class=\"company-logo\" data-img-dark-path=\"/img/company-logos/64/ON.D.png\" data-img-path=\"/img/company-logos/64/ON.png\" loading=\"lazy\" src=\"/img/company-logos/64/ON.png\"/></div><div class=\"name-div\"><a href=\"/on-semiconductor/marketcap/\"><div class=\"company-name\">ON Semiconductor</div><div class=\"company-code\"><span class=\"rank d-none\"></span>ON</div></a></div></td><td class=\"td-right\" data-sort=\"42427203584\">$42.42 B</td><td class=\"td-right\" data-sort=\"9824\">$98.24</td><td class=\"rh-sm\" data-sort=\"97\"><span class=\"percentage-green\"><svg class=\"a\" viewbox=\"0 0 12 12\"><path d=\"M10 8H2l4-4 4 4z\"></path></svg>0.97%</span></td><td class=\"p-0 sparkline-td green\"><svg><path d=\"M0,36 5,38 10,33 15,30 20,30 25,33 30,35 35,35 40,37 45,40 50,38 55,41 60,39 65,31 70,33 75,31 80,26 85,21 90,21 95,29 100,30 105,28 110,22 115,21 120,17 125,9 130,14 135,4 140,3 145,9 150,20 155,17\"></path></svg></td><td>🇺🇸 <span class=\"responsive-hidden\">USA</span></td><td class=\"rank-td td-right\" data-sort=\"77\">77</td><td class=\"name-td\"><div class=\"logo-container\"><img alt=\"IQVIA logo\" class=\"company-logo\" data-img-dark-path=\"/img/company-logos/64/IQV.D.png\" data-img-path=\"/img/company-logos/64/IQV.png\" loading=\"lazy\" src=\"/img/company-logos/64/IQV.png\"/></div><div class=\"name-div\"><a href=\"/iqvia/marketcap/\"><div class=\"company-name\">IQVIA</div><div class=\"company-code\"><span class=\"rank d-none\"></span>IQV</div></a></div></td><td class=\"td-right\" data-sort=\"41848717312\">$41.84 B</td><td class=\"td-right\" data-sort=\"22554\">$225.54</td><td class=\"rh-sm\" data-sort=\"-37\"><span class=\"percentage-red\"><svg class=\"a\" viewbox=\"0 0 12 12\"><path d=\"m2 4h8l-4 4z\"></path></svg>0.37%</span></td><td class=\"p-0 sparkline-td green\"><svg><path d=\"M0,41 5,40 10,30 15,24 20,29 25,21 30,22 35,22 40,25 45,27 50,27 55,26 60,27 65,25 70,16 75,12 80,6 85,13 90,13 95,13 100,19 105,21 110,16 115,22 120,17 125,16 130,13 135,12 140,7 145,5 150,3 155,3\"></path></svg></td><td>🇺🇸 <span class=\"responsive-hidden\">USA</span></td><td class=\"rank-td td-right\" data-sort=\"78\">78</td><td class=\"name-td\"><div class=\"logo-container\"><img alt=\"Dell logo\" class=\"company-logo\" loading=\"lazy\" src=\"/img/company-logos/64/DELL.png\"/></div><div class=\"name-div\"><a href=\"/dell/marketcap/\"><div class=\"company-name\">Dell</div><div class=\"company-code\"><span class=\"rank d-none\"></span>DELL</div></a></div></td><td class=\"td-right\" data-sort=\"39038406656\">$39.03 B</td><td class=\"td-right\" data-sort=\"5368\">$53.68</td><td class=\"rh-sm\" data-sort=\"15\"><span class=\"percentage-green\"><svg class=\"a\" viewbox=\"0 0 12 12\"><path d=\"M10 8H2l4-4 4 4z\"></path></svg>0.15%</span></td><td class=\"p-0 sparkline-td green\"><svg><path d=\"M0,40 5,41 10,39 15,35 20,33 25,29 30,31 35,31 40,33 45,30 50,24 55,26 60,24 65,23 70,22 75,15 80,11 85,8 90,8 95,10 100,12 105,13 110,7 115,3 120,10 125,3 130,4 135,8 140,12 145,10 150,13 155,11\"></path></svg></td><td>🇺🇸 <span class=\"responsive-hidden\">USA</span></td><td class=\"rank-td td-right\" data-sort=\"79\" moves=\"4\">79</td><td class=\"name-td\"><div class=\"logo-container\"><img alt=\"Electronic Arts logo\" class=\"company-logo\" loading=\"lazy\" src=\"/img/company-logos/64/EA.png\"/></div><div class=\"name-div\"><a href=\"/electronic-arts/marketcap/\"><div class=\"company-name\">Electronic Arts</div><div class=\"company-code\"><span class=\"rank d-none\"></span>EA</div></a></div></td><td class=\"td-right\" data-sort=\"37368463360\">$37.36 B</td><td class=\"td-right\" data-sort=\"13732.5\">$137.32</td><td class=\"rh-sm\" data-sort=\"14\"><span class=\"percentage-green\"><svg class=\"a\" viewbox=\"0 0 12 12\"><path d=\"M10 8H2l4-4 4 4z\"></path></svg>0.14%</span></td><td class=\"p-0 sparkline-td green\"><svg><path d=\"M0,34 5,37 10,38 15,34 20,32 25,29 30,30 35,30 40,36 45,41 50,39 55,39 60,35 65,23 70,25 75,25 80,27 85,24 90,24 95,27 100,25 105,29 110,25 115,7 120,12 125,9 130,7 135,5 140,3 145,8 150,8 155,6\"></path></svg></td><td>🇺🇸 <span class=\"responsive-hidden\">USA</span></td><td class=\"rank-td td-right\" data-sort=\"80\" moves=\"4\">80</td><td class=\"name-td\"><div class=\"logo-container\"><img alt=\"Murata Manufacturing (Murata Seisakusho) logo\" class=\"company-logo\" loading=\"lazy\" src=\"/img/company-logos/64/6981.T.png\"/></div><div class=\"name-div\"><a href=\"/murata-seisakusho/marketcap/\"><div class=\"company-name\">Murata Manufacturing (Murata Seisakusho)</div><div class=\"company-code\"><span class=\"rank d-none\"></span>6981.T</div></a></div></td><td class=\"td-right\" data-sort=\"37136874684\">$37.13 B</td><td class=\"td-right\" data-sort=\"5897\">$58.97</td><td class=\"rh-sm\" data-sort=\"-7\"><span class=\"percentage-red\"><svg class=\"a\" viewbox=\"0 0 12 12\"><path d=\"m2 4h8l-4 4z\"></path></svg>0.07%</span></td><td class=\"p-0 sparkline-td red\"><svg><path d=\"M0,17 5,12 10,9 15,5 20,3 25,8 30,12 35,13 40,15 45,20 50,26 55,29 60,31 65,33 70,27 75,24 80,23 85,14 90,18 95,17 100,23 105,31 110,38 115,35 120,41 125,30 130,29 135,29 140,17 145,15 150,23 155,24\"></path></svg></td><td>🇯🇵 <span class=\"responsive-hidden\">Japan</span></td><td class=\"rank-td td-right\" data-sort=\"81\">81</td><td class=\"name-td\"><div class=\"logo-container\"><img alt=\"CoStar Group logo\" class=\"company-logo\" data-img-dark-path=\"/img/company-logos/64/CSGP.D.png\" data-img-path=\"/img/company-logos/64/CSGP.png\" loading=\"lazy\" src=\"/img/company-logos/64/CSGP.png\"/></div><div class=\"name-div\"><a href=\"/costar-group/marketcap/\"><div class=\"company-name\">CoStar Group</div><div class=\"company-code\"><span class=\"rank d-none\"></span>CSGP</div></a></div></td><td class=\"td-right\" data-sort=\"37125984256\">$37.12 B</td><td class=\"td-right\" data-sort=\"9087.5\">$90.88</td><td class=\"rh-sm\" data-sort=\"73\"><span class=\"percentage-green\"><svg class=\"a\" viewbox=\"0 0 12 12\"><path d=\"M10 8H2l4-4 4 4z\"></path></svg>0.73%</span></td><td class=\"p-0 sparkline-td green\"><svg><path d=\"M0,38 5,41 10,39 15,35 20,32 25,28 30,28 35,28 40,24 45,16 50,20 55,19 60,16 65,9 70,11 75,8 80,12 85,17 90,17 95,13 100,15 105,19 110,15 115,14 120,13 125,13 130,11 135,6 140,4 145,3 150,8 155,5\"></path></svg></td><td>🇺🇸 <span class=\"responsive-hidden\">USA</span></td><td class=\"rank-td td-right\" data-sort=\"82\" moves=\"4\">82</td><td class=\"name-td\"><div class=\"logo-container\"><img alt=\"Fidelity National Information Services logo\" class=\"company-logo\" data-img-dark-path=\"/img/company-logos/64/FIS.D.png\" data-img-path=\"/img/company-logos/64/FIS.png\" loading=\"lazy\" src=\"/img/company-logos/64/FIS.png\"/></div><div class=\"name-div\"><a href=\"/fidelity-national-information-services/marketcap/\"><div class=\"company-name\">Fidelity National Information Services</div><div class=\"company-code\"><span class=\"rank d-none\"></span>FIS</div></a></div></td><td class=\"td-right\" data-sort=\"36067565568\">$36.06 B</td><td class=\"td-right\" data-sort=\"6088\">$60.88</td><td class=\"rh-sm\" data-sort=\"-49\"><span class=\"percentage-red\"><svg class=\"a\" viewbox=\"0 0 12 12\"><path d=\"m2 4h8l-4 4z\"></path></svg>0.49%</span></td><td class=\"p-0 sparkline-td green\"><svg><path d=\"M0,32 5,32 10,32 15,30 20,32 25,34 30,31 35,31 40,32 45,36 50,36 55,40 60,40 65,41 70,38 75,39 80,32 85,18 90,18 95,11 100,13 105,13 110,16 115,13 120,13 125,11 130,13 135,16 140,9 145,6 150,5 155,3\"></path></svg></td><td>🇺🇸 <span class=\"responsive-hidden\">USA</span></td><td class=\"rank-td td-right\" data-sort=\"83\" moves=\"-1\">83</td><td class=\"name-td\"><div class=\"logo-container\"><img alt=\"CrowdStrike logo\" class=\"company-logo\" data-img-dark-path=\"/img/company-logos/64/CRWD.D.png\" data-img-path=\"/img/company-logos/64/CRWD.png\" loading=\"lazy\" src=\"/img/company-logos/64/CRWD.png\"/></div><div class=\"name-div\"><a href=\"/crowdstrike/marketcap/\"><div class=\"company-name\">CrowdStrike</div><div class=\"company-code\"><span class=\"rank d-none\"></span>CRWD</div></a></div></td><td class=\"td-right\" data-sort=\"35550785536\">$35.55 B</td><td class=\"td-right\" data-sort=\"14993.5\">$149.94</td><td class=\"rh-sm\" data-sort=\"126\"><span class=\"percentage-green\"><svg class=\"a\" viewbox=\"0 0 12 12\"><path d=\"M10 8H2l4-4 4 4z\"></path></svg>1.26%</span></td><td class=\"p-0 sparkline-td red\"><svg><path d=\"M0,21 5,25 10,21 15,17 20,15 25,3 30,13 35,13 40,19 45,37 50,33 55,37 60,41 65,36 70,34 75,36 80,30 85,32 90,32 95,34 100,37 105,36 110,24 115,22 120,32 125,22 130,25 135,18 140,17 145,8 150,28 155,23\"></path></svg></td><td>🇺🇸 <span class=\"responsive-hidden\">USA</span></td><td class=\"rank-td td-right\" data-sort=\"84\" moves=\"-4\">84</td><td class=\"name-td\"><div class=\"logo-container\"><img alt=\"Datadog logo\" class=\"company-logo\" data-img-dark-path=\"/img/company-logos/64/DDOG.D.png\" data-img-path=\"/img/company-logos/64/DDOG.png\" loading=\"lazy\" src=\"/img/company-logos/64/DDOG.png\"/></div><div class=\"name-div\"><a href=\"/datadog/marketcap/\"><div class=\"company-name\">Datadog</div><div class=\"company-code\"><span class=\"rank d-none\"></span>DDOG</div></a></div></td><td class=\"td-right\" data-sort=\"35512500224\">$35.51 B</td><td class=\"td-right\" data-sort=\"11033\">$110.33</td><td class=\"rh-sm\" data-sort=\"39\"><span class=\"percentage-green\"><svg class=\"a\" viewbox=\"0 0 12 12\"><path d=\"M10 8H2l4-4 4 4z\"></path></svg>0.39%</span></td><td class=\"p-0 sparkline-td green\"><svg><path d=\"M0,34 5,35 10,32 15,32 20,34 25,31 30,35 35,35 40,33 45,41 50,37 55,38 60,39 65,35 70,31 75,34 80,30 85,31 90,31 95,31 100,33 105,31 110,25 115,20 120,19 125,13 130,14 135,7 140,5 145,3 150,12 155,11\"></path></svg></td><td>🇺🇸 <span class=\"responsive-hidden\">USA</span></td><td class=\"rank-td td-right\" data-sort=\"85\" moves=\"7\">85</td><td class=\"name-td\"><div class=\"logo-container\"><img alt=\"Xiaomi logo\" class=\"company-logo\" loading=\"lazy\" src=\"/img/company-logos/64/XIACF.png\"/></div><div class=\"name-div\"><a href=\"/xiaomi/marketcap/\"><div class=\"company-name\">Xiaomi</div><div class=\"company-code\"><span class=\"rank d-none\"></span>XIACF</div></a></div></td><td class=\"td-right\" data-sort=\"35471446016\">$35.47 B</td><td class=\"td-right\" data-sort=\"141.03\">$1.41</td><td class=\"rh-sm\" data-sort=\"0\"><span class=\"percentage-green\"><svg class=\"a\" viewbox=\"0 0 12 12\"><path d=\"M10 8H2l4-4 4 4z\"></path></svg>0.00%</span></td><td class=\"p-0 sparkline-td green\"><svg><path d=\"M0,25 5,28 10,30 15,24 20,21 25,23 30,20 35,20 40,30 45,36 50,36 55,41 60,28 65,28 70,28 75,27 80,27 85,22 90,22 95,19 100,16 105,16 110,16 115,21 120,19 125,3 130,7 135,11 140,19 145,20 150,19 155,19\"></path></svg></td><td>🇨🇳 <span class=\"responsive-hidden\">China</span></td><td class=\"rank-td td-right\" data-sort=\"86\" moves=\"-1\">86</td><td class=\"name-td\"><div class=\"logo-container\"><img alt=\"GlobalFoundries logo\" class=\"company-logo\" loading=\"lazy\" src=\"/img/company-logos/64/GFS.png\"/></div><div class=\"name-div\"><a href=\"/globalfoundries/marketcap/\"><div class=\"company-name\">GlobalFoundries</div><div class=\"company-code\"><span class=\"rank d-none\"></span>GFS</div></a></div></td><td class=\"td-right\" data-sort=\"35440324608\">$35.44 B</td><td class=\"td-right\" data-sort=\"6419\">$64.19</td><td class=\"rh-sm\" data-sort=\"-20\"><span class=\"percentage-red\"><svg class=\"a\" viewbox=\"0 0 12 12\"><path d=\"m2 4h8l-4 4z\"></path></svg>0.20%</span></td><td class=\"p-0 sparkline-td green\"><svg><path d=\"M0,35 5,35 10,24 15,22 20,24 25,22 30,24 35,24 40,26 45,35 50,34 55,41 60,33 65,22 70,22 75,21 80,16 85,15 90,15 95,20 100,26 105,23 110,17 115,17 120,12 125,8 130,8 135,3 140,5 145,8 150,17 155,16\"></path></svg></td><td>🇺🇸 <span class=\"responsive-hidden\">USA</span></td><td class=\"rank-td td-right\" data-sort=\"87\" moves=\"-8\">87</td><td class=\"name-td\"><div class=\"logo-container\"><img alt=\"Palantir logo\" class=\"company-logo\" data-img-dark-path=\"/img/company-logos/64/PLTR.D.png\" data-img-path=\"/img/company-logos/64/PLTR.png\" loading=\"lazy\" src=\"/img/company-logos/64/PLTR.png\"/></div><div class=\"name-div\"><a href=\"/palantir/marketcap/\"><div class=\"company-name\">Palantir</div><div class=\"company-code\"><span class=\"rank d-none\"></span>PLTR</div></a></div></td><td class=\"td-right\" data-sort=\"35219062784\">$35.21 B</td><td class=\"td-right\" data-sort=\"1662.5\">$16.62</td><td class=\"rh-sm\" data-sort=\"-295\"><span class=\"percentage-red\"><svg class=\"a\" viewbox=\"0 0 12 12\"><path d=\"m2 4h8l-4 4z\"></path></svg>2.95%</span></td><td class=\"p-0 sparkline-td green\"><svg><path d=\"M0,30 5,31 10,25 15,22 20,23 25,17 30,19 35,19 40,24 45,35 50,40 55,40 60,41 65,35 70,29 75,29 80,28 85,26 90,26 95,25 100,30 105,28 110,19 115,18 120,17 125,15 130,18 135,9 140,3 145,3 150,12 155,12\"></path></svg></td><td>🇺🇸 <span class=\"responsive-hidden\">USA</span></td><td class=\"rank-td td-right\" data-sort=\"88\">88</td><td class=\"name-td\"><div class=\"logo-container\"><img alt=\"MediaTek logo\" class=\"company-logo\" loading=\"lazy\" src=\"/img/company-logos/64/2454.TW.png\"/></div><div class=\"name-div\"><a href=\"/mediatek/marketcap/\"><div class=\"company-name\">MediaTek</div><div class=\"company-code\"><span class=\"rank d-none\"></span>2454.TW</div></a></div></td><td class=\"td-right\" data-sort=\"34939579545\">$34.93 B</td><td class=\"td-right\" data-sort=\"2195\">$21.95</td><td class=\"rh-sm\" data-sort=\"-145\"><span class=\"percentage-red\"><svg class=\"a\" viewbox=\"0 0 12 12\"><path d=\"m2 4h8l-4 4z\"></path></svg>1.45%</span></td><td class=\"p-0 sparkline-td red\"><svg><path d=\"M0,9 5,10 10,9 15,5 20,5 25,9 30,15 35,3 40,35 45,34 50,34 55,34 60,37 65,38 70,34 75,33 80,36 85,35 90,32 95,33 100,35 105,38 110,41 115,37 120,37 125,39 130,35 135,38 140,38 145,33 150,35 155,38\"></path></svg></td><td>🇹🇼 <span class=\"responsive-hidden\">Taiwan</span></td><td class=\"rank-td td-right\" data-sort=\"89\" moves=\"-2\">89</td><td class=\"name-td\"><div class=\"logo-container\"><img alt=\"Sea (Garena) logo\" class=\"company-logo\" loading=\"lazy\" src=\"/img/company-logos/64/SE.png\"/></div><div class=\"name-div\"><a href=\"/sea/marketcap/\"><div class=\"company-name\">Sea (Garena)</div><div class=\"company-code\"><span class=\"rank d-none\"></span>SE</div></a></div></td><td class=\"td-right\" data-sort=\"34734108672\">$34.73 B</td><td class=\"td-right\" data-sort=\"6107\">$61.07</td><td class=\"rh-sm\" data-sort=\"151\"><span class=\"percentage-green\"><svg class=\"a\" viewbox=\"0 0 12 12\"><path d=\"M10 8H2l4-4 4 4z\"></path></svg>1.51%</span></td><td class=\"p-0 sparkline-td red\"><svg><path d=\"M0,11 5,11 10,5 15,3 20,10 25,13 30,16 35,16 40,19 45,22 50,25 55,27 60,34 65,33 70,33 75,34 80,30 85,31 90,31 95,30 100,40 105,41 110,30 115,26 120,20 125,12 130,14 135,13 140,18 145,15 150,23 155,16\"></path></svg></td><td>🇸🇬 <span class=\"responsive-hidden\">Singapore</span></td><td class=\"rank-td td-right\" data-sort=\"90\" moves=\"3\">90</td><td class=\"name-td\"><div class=\"logo-container\"><img alt=\"Amadeus IT Group logo\" class=\"company-logo\" loading=\"lazy\" src=\"/img/company-logos/64/AMS.MC.png\"/></div><div class=\"name-div\"><a href=\"/amadeus-it-group/marketcap/\"><div class=\"company-name\">Amadeus IT Group</div><div class=\"company-code\"><span class=\"rank d-none\"></span>AMS.MC</div></a></div></td><td class=\"td-right\" data-sort=\"33805922817\">$33.80 B</td><td class=\"td-right\" data-sort=\"7534\">$75.34</td><td class=\"rh-sm\" data-sort=\"60\"><span class=\"percentage-green\"><svg class=\"a\" viewbox=\"0 0 12 12\"><path d=\"M10 8H2l4-4 4 4z\"></path></svg>0.60%</span></td><td class=\"p-0 sparkline-td green\"><svg><path d=\"M0,27 5,28 10,19 15,10 20,5 25,5 30,3 35,8 40,8 45,12 50,13 55,16 60,18 65,13 70,9 75,8 80,5 85,19 90,20 95,26 100,41 105,37 110,34 115,34 120,32 125,31 130,36 135,31 140,32 145,27 150,29 155,26\"></path></svg></td><td>🇪🇸 <span class=\"responsive-hidden\">Spain</span></td><td class=\"rank-td td-right\" data-sort=\"91\" moves=\"-2\">91</td><td class=\"name-td\"><div class=\"logo-container\"><img alt=\"Renesas Electronics\n",
       "  logo\" class=\"company-logo\" data-img-dark-path=\"/img/company-logos/64/6723.T.D.png\" data-img-path=\"/img/company-logos/64/6723.T.png\" loading=\"lazy\" src=\"/img/company-logos/64/6723.T.png\"/></div><div class=\"name-div\"><a href=\"/renesas-electronics/marketcap/\"><div class=\"company-name\">Renesas Electronics\n",
       " </div><div class=\"company-code\"><span class=\"rank d-none\"></span>6723.T</div></a></div></td><td class=\"td-right\" data-sort=\"33773830516\">$33.77 B</td><td class=\"td-right\" data-sort=\"1913\">$19.13</td><td class=\"rh-sm\" data-sort=\"-252\"><span class=\"percentage-red\"><svg class=\"a\" viewbox=\"0 0 12 12\"><path d=\"m2 4h8l-4 4z\"></path></svg>2.52%</span></td><td class=\"p-0 sparkline-td green\"><svg><path d=\"M0,41 5,39 10,35 15,27 20,22 25,17 30,17 35,22 40,16 45,18 50,29 55,29 60,32 65,30 70,21 75,17 80,15 85,6 90,7 95,3 100,13 105,16 110,22 115,18 120,27 125,17 130,15 135,15 140,10 145,4 150,12 155,18\"></path></svg></td><td>🇯🇵 <span class=\"responsive-hidden\">Japan</span></td><td class=\"rank-td td-right\" data-sort=\"92\" moves=\"-1\">92</td><td class=\"name-td\"><div class=\"logo-container\"><img alt=\"Spotify logo\" class=\"company-logo\" loading=\"lazy\" src=\"/img/company-logos/64/SPOT.png\"/></div><div class=\"name-div\"><a href=\"/spotify/marketcap/\"><div class=\"company-name\">Spotify</div><div class=\"company-code\"><span class=\"rank d-none\"></span>SPOT</div></a></div></td><td class=\"td-right\" data-sort=\"33606377472\">$33.60 B</td><td class=\"td-right\" data-sort=\"17375\">$173.75</td><td class=\"rh-sm\" data-sort=\"74\"><span class=\"percentage-green\"><svg class=\"a\" viewbox=\"0 0 12 12\"><path d=\"M10 8H2l4-4 4 4z\"></path></svg>0.74%</span></td><td class=\"p-0 sparkline-td green\"><svg><path d=\"M0,41 5,40 10,40 15,38 20,38 25,38 30,28 35,28 40,32 45,33 50,29 55,31 60,36 65,30 70,27 75,29 80,27 85,27 90,27 95,27 100,32 105,32 110,31 115,27 120,21 125,14 130,13 135,4 140,3 145,3 150,12 155,10\"></path></svg></td><td>🇸🇪 <span class=\"responsive-hidden\">Sweden</span></td><td class=\"rank-td td-right\" data-sort=\"93\" moves=\"7\">93</td><td class=\"name-td\"><div class=\"logo-container\"><img alt=\"Kuaishou Technology logo\" class=\"company-logo\" loading=\"lazy\" src=\"/img/company-logos/64/1024.HK.png\"/></div><div class=\"name-div\"><a href=\"/kuaishou-technology/marketcap/\"><div class=\"company-name\">Kuaishou Technology</div><div class=\"company-code\"><span class=\"rank d-none\"></span>1024.HK</div></a></div></td><td class=\"td-right\" data-sort=\"33143142703\">$33.14 B</td><td class=\"td-right\" data-sort=\"765\">$7.65</td><td class=\"rh-sm\" data-sort=\"482\"><span class=\"percentage-green\"><svg class=\"a\" viewbox=\"0 0 12 12\"><path d=\"M10 8H2l4-4 4 4z\"></path></svg>4.82%</span></td><td class=\"p-0 sparkline-td green\"><svg><path d=\"M0,22 5,15 10,10 15,11 20,12 25,3 30,8 35,18 40,23 45,30 50,30 55,34 60,33 65,25 70,23 75,29 80,36 85,27 90,27 95,29 100,35 105,41 110,34 115,36 120,28 125,9 130,10 135,10 140,20 145,17 150,21 155,9\"></path></svg></td><td>🇨🇳 <span class=\"responsive-hidden\">China</span></td><td class=\"rank-td td-right\" data-sort=\"94\">94</td><td class=\"name-td\"><div class=\"logo-container\"><img alt=\"Veeva Systems logo\" class=\"company-logo\" data-img-dark-path=\"/img/company-logos/64/VEEV.D.png\" data-img-path=\"/img/company-logos/64/VEEV.png\" loading=\"lazy\" src=\"/img/company-logos/64/VEEV.png\"/></div><div class=\"name-div\"><a href=\"/veeva-systems/marketcap/\"><div class=\"company-name\">Veeva Systems</div><div class=\"company-code\"><span class=\"rank d-none\"></span>VEEV</div></a></div></td><td class=\"td-right\" data-sort=\"33106454528\">$33.10 B</td><td class=\"td-right\" data-sort=\"19932\">$199.32</td><td class=\"rh-sm\" data-sort=\"22\"><span class=\"percentage-green\"><svg class=\"a\" viewbox=\"0 0 12 12\"><path d=\"M10 8H2l4-4 4 4z\"></path></svg>0.22%</span></td><td class=\"p-0 sparkline-td green\"><svg><path d=\"M0,40 5,41 10,36 15,35 20,29 25,17 30,19 35,19 40,15 45,15 50,19 55,18 60,21 65,16 70,26 75,28 80,23 85,26 90,26 95,21 100,27 105,29 110,20 115,11 120,7 125,4 130,4 135,7 140,3 145,9 150,21 155,19\"></path></svg></td><td>🇺🇸 <span class=\"responsive-hidden\">USA</span></td><td class=\"rank-td td-right\" data-sort=\"95\" moves=\"-5\">95</td><td class=\"name-td\"><div class=\"logo-container\"><img alt=\"Mobileye logo\" class=\"company-logo\" data-img-dark-path=\"/img/company-logos/64/MBLY.D.png\" data-img-path=\"/img/company-logos/64/MBLY.png\" loading=\"lazy\" src=\"/img/company-logos/64/MBLY.png\"/></div><div class=\"name-div\"><a href=\"/mobileye/marketcap/\"><div class=\"company-name\">Mobileye</div><div class=\"company-code\"><span class=\"rank d-none\"></span>MBLY</div></a></div></td><td class=\"td-right\" data-sort=\"32971716608\">$32.97 B</td><td class=\"td-right\" data-sort=\"4092.5\">$40.92</td><td class=\"rh-sm\" data-sort=\"-33\"><span class=\"percentage-red\"><svg class=\"a\" viewbox=\"0 0 12 12\"><path d=\"m2 4h8l-4 4z\"></path></svg>0.33%</span></td><td class=\"p-0 sparkline-td red\"><svg><path d=\"M0,15 5,15 10,23 15,21 20,19 25,24 30,27 35,27 40,35 45,38 50,35 55,36 60,41 65,34 70,31 75,33 80,30 85,24 90,24 95,25 100,22 105,20 110,21 115,19 120,9 125,8 130,14 135,8 140,3 145,7 150,18 155,18\"></path></svg></td><td>🇮🇱 <span class=\"responsive-hidden\">Israel</span></td><td class=\"rank-td td-right\" data-sort=\"96\" moves=\"-1\">96</td><td class=\"name-td\"><div class=\"logo-container\"><img alt=\"DoorDash logo\" class=\"company-logo\" data-img-dark-path=\"/img/company-logos/64/DASH.D.png\" data-img-path=\"/img/company-logos/64/DASH.png\" loading=\"lazy\" src=\"/img/company-logos/64/DASH.png\"/></div><div class=\"name-div\"><a href=\"/doordash/marketcap/\"><div class=\"company-name\">DoorDash</div><div class=\"company-code\"><span class=\"rank d-none\"></span>DASH</div></a></div></td><td class=\"td-right\" data-sort=\"32749176832\">$32.74 B</td><td class=\"td-right\" data-sort=\"8455\">$84.55</td><td class=\"rh-sm\" data-sort=\"109\"><span class=\"percentage-green\"><svg class=\"a\" viewbox=\"0 0 12 12\"><path d=\"M10 8H2l4-4 4 4z\"></path></svg>1.09%</span></td><td class=\"p-0 sparkline-td green\"><svg><path d=\"M0,41 5,37 10,35 15,33 20,37 25,37 30,33 35,33 40,34 45,34 50,34 55,34 60,32 65,29 70,25 75,27 80,25 85,19 90,19 95,19 100,24 105,21 110,22 115,17 120,15 125,8 130,6 135,3 140,4 145,4 150,7 155,4\"></path></svg></td><td>🇺🇸 <span class=\"responsive-hidden\">USA</span></td><td class=\"rank-td td-right\" data-sort=\"97\" moves=\"-1\">97</td><td class=\"name-td\"><div class=\"logo-container\"><img alt=\"HP logo\" class=\"company-logo\" data-img-dark-path=\"/img/company-logos/64/HPQ.D.png\" data-img-path=\"/img/company-logos/64/HPQ.png\" loading=\"lazy\" src=\"/img/company-logos/64/HPQ.png\"/></div><div class=\"name-div\"><a href=\"/hp/marketcap/\"><div class=\"company-name\">HP</div><div class=\"company-code\"><span class=\"rank d-none\"></span>HPQ</div></a></div></td><td class=\"td-right\" data-sort=\"32332912640\">$32.33 B</td><td class=\"td-right\" data-sort=\"3242.5\">$32.42</td><td class=\"rh-sm\" data-sort=\"-41\"><span class=\"percentage-red\"><svg class=\"a\" viewbox=\"0 0 12 12\"><path d=\"m2 4h8l-4 4z\"></path></svg>0.41%</span></td><td class=\"p-0 sparkline-td green\"><svg><path d=\"M0,37 5,39 10,33 15,29 20,28 25,27 30,28 35,28 40,36 45,39 50,39 55,41 60,39 65,39 70,38 75,34 80,30 85,30 90,30 95,31 100,29 105,26 110,22 115,4 120,9 125,3 130,10 135,10 140,11 145,9 150,13 155,13\"></path></svg></td><td>🇺🇸 <span class=\"responsive-hidden\">USA</span></td><td class=\"rank-td td-right\" data-sort=\"98\" moves=\"1\">98</td><td class=\"name-td\"><div class=\"logo-container\"><img alt=\"Wolters Kluwer logo\" class=\"company-logo\" loading=\"lazy\" src=\"/img/company-logos/64/WKL.AS.png\"/></div><div class=\"name-div\"><a href=\"/wolters-kluwer/marketcap/\"><div class=\"company-name\">Wolters Kluwer</div><div class=\"company-code\"><span class=\"rank d-none\"></span>WKL.AS</div></a></div></td><td class=\"td-right\" data-sort=\"31966893691\">$31.96 B</td><td class=\"td-right\" data-sort=\"12723\">$127.23</td><td class=\"rh-sm\" data-sort=\"58\"><span class=\"percentage-green\"><svg class=\"a\" viewbox=\"0 0 12 12\"><path d=\"M10 8H2l4-4 4 4z\"></path></svg>0.58%</span></td><td class=\"p-0 sparkline-td green\"><svg><path d=\"M0,21 5,21 10,16 15,15 20,18 25,13 30,8 35,13 40,8 45,11 50,6 55,3 60,10 65,11 70,8 75,13 80,8 85,17 90,16 95,11 100,17 105,38 110,38 115,41 120,35 125,27 130,21 135,21 140,23 145,23 150,23 155,20\"></path></svg></td><td>🇳🇱 <span class=\"responsive-hidden\">Netherlands</span></td><td class=\"rank-td td-right\" data-sort=\"99\" moves=\"-2\">99</td><td class=\"name-td\"><div class=\"logo-container\"><img alt=\"Coupang logo\" class=\"company-logo\" data-img-dark-path=\"/img/company-logos/64/CPNG.D.png\" data-img-path=\"/img/company-logos/64/CPNG.png\" loading=\"lazy\" src=\"/img/company-logos/64/CPNG.png\"/></div><div class=\"name-div\"><a href=\"/coupang/marketcap/\"><div class=\"company-name\">Coupang</div><div class=\"company-code\"><span class=\"rank d-none\"></span>CPNG</div></a></div></td><td class=\"td-right\" data-sort=\"30601605120\">$30.60 B</td><td class=\"td-right\" data-sort=\"1715.5\">$17.16</td><td class=\"rh-sm\" data-sort=\"44\"><span class=\"percentage-green\"><svg class=\"a\" viewbox=\"0 0 12 12\"><path d=\"M10 8H2l4-4 4 4z\"></path></svg>0.44%</span></td><td class=\"p-0 sparkline-td green\"><svg><path d=\"M0,41 5,41 10,31 15,30 20,26 25,22 30,16 35,16 40,18 45,19 50,27 55,30 60,40 65,16 70,18 75,17 80,14 85,15 90,15 95,19 100,26 105,27 110,25 115,17 120,11 125,7 130,10 135,4 140,3 145,4 150,20 155,18\"></path></svg></td><td>🇰🇷 <span class=\"responsive-hidden\">S. Korea</span></td><td class=\"rank-td td-right\" data-sort=\"100\" moves=\"3\">100</td><td class=\"name-td\"><div class=\"logo-container\"><img alt=\"Delta Electronics logo\" class=\"company-logo\" loading=\"lazy\" src=\"/img/company-logos/64/2308.TW.png\"/></div><div class=\"name-div\"><a href=\"/delta-electronics/marketcap/\"><div class=\"company-name\">Delta Electronics</div><div class=\"company-code\"><span class=\"rank d-none\"></span>2308.TW</div></a></div></td><td class=\"td-right\" data-sort=\"30054252464\">$30.05 B</td><td class=\"td-right\" data-sort=\"1157\">$11.57</td><td class=\"rh-sm\" data-sort=\"84\"><span class=\"percentage-green\"><svg class=\"a\" viewbox=\"0 0 12 12\"><path d=\"M10 8H2l4-4 4 4z\"></path></svg>0.84%</span></td><td class=\"p-0 sparkline-td green\"><svg><path d=\"M0,40 5,41 10,32 15,27 20,19 25,7 30,6 35,3 40,8 45,11 50,11 55,11 60,23 65,25 70,24 75,22 80,25 85,12 90,9 95,10 100,19 105,23 110,23 115,15 120,12 125,7 130,8 135,8 140,10 145,16 150,17 155,15\"></path></svg></td><td>🇹🇼 <span class=\"responsive-hidden\">Taiwan</span></td> </tbody>\n",
       " </table>]"
      ]
     },
     "execution_count": 5,
     "metadata": {},
     "output_type": "execute_result"
    }
   ],
   "source": [
    "soup.find_all('table')"
   ]
  },
  {
   "cell_type": "code",
   "execution_count": 6,
   "id": "4c46c38c",
   "metadata": {},
   "outputs": [],
   "source": [
    "table= soup.find_all('table')"
   ]
  },
  {
   "cell_type": "code",
   "execution_count": 7,
   "id": "e6856404",
   "metadata": {},
   "outputs": [],
   "source": [
    "individual_row= soup.find_all('td')"
   ]
  },
  {
   "cell_type": "code",
   "execution_count": 8,
   "id": "a6cd5911",
   "metadata": {},
   "outputs": [
    {
     "name": "stdout",
     "output_type": "stream",
     "text": [
      "['1', 'AppleAAPL', '$3.052 T', '$194.07', '0.49%', '', '🇺🇸 USA', '2', 'MicrosoftMSFT', '$2.588 T', '$348.16', '0.37%', '', '🇺🇸 USA', '3', 'Alphabet (Google)GOOG', '$1.528 T', '$120.54', '0.85%', '', '🇺🇸 USA', '4', 'AmazonAMZN', '$1.335 T', '$130.12', '0.13%', '', '🇺🇸 USA', '5', 'NVIDIANVDA', '$1.116 T', '$451.88', '0.73%', '', '🇺🇸 USA', '6', 'TeslaTSLA', '$831.01 B', '$262.19', '0.27%', '', '🇺🇸 USA', '7', 'Meta Platforms (Facebook)META', '$772.84 B', '$301.57', '0.31%', '', '🇺🇸 USA', '8', 'TSMCTSM', '$502.97 B', '$96.98', '0.90%', '', '🇹🇼 Taiwan', '9', 'TencentTCEHY', '$408.05 B', '$42.56', '0.19%', '', '🇨🇳 China', '10', 'BroadcomAVGO', '$373.99 B', '$906.25', '2.02%', '', '🇺🇸 USA', '11', 'Samsung005930.KS', '$368.29 B', '$55.35', '0.99%', '', '🇰🇷 S. Korea', '12', 'OracleORCL', '$321.39 B', '$118.41', '2.18%', '', '🇺🇸 USA', '13', 'ASMLASML', '$295.03 B', '$692.74', '2.46%', '', '🇳🇱 Netherlands', '14', 'AdobeADBE', '$244.30 B', '$525.68', '1.70%', '', '🇺🇸 USA', '15', 'AlibabaBABA', '$236.51 B', '$92.30', '0.44%', '', '🇨🇳 China', '16', 'SalesforceCRM', '$222.98 B', '$228.94', '0.34%', '', '🇺🇸 USA', '17', 'CiscoCSCO', '$215.36 B', '$52.79', '0.80%', '', '🇺🇸 USA', '18', 'NetflixNFLX', '$191.78 B', '$431.42', '1.37%', '', '🇺🇸 USA', '19', 'AMDAMD', '$176.97 B', '$109.90', '0.32%', '', '🇺🇸 USA', '20', 'Texas InstrumentsTXN', '$170.16 B', '$183.65', '2.07%', '', '🇺🇸 USA', '21', 'SAPSAP', '$167.25 B', '$135.54', '1.20%', '', '🇩🇪 Germany', '22', 'IntuitINTU', '$141.46 B', '$496.26', '0.91%', '', '🇺🇸 USA', '23', 'IntelINTC', '$140.21 B', '$33.49', '0.36%', '', '🇺🇸 USA', '24', 'QUALCOMMQCOM', '$139.75 B', '$121.72', '0.83%', '', '🇺🇸 USA', '25', 'IBMIBM', '$125.56 B', '$138.28', '0.07%', '', '🇺🇸 USA', '26', 'ServiceNowNOW', '$120.82 B', '$588.31', '1.63%', '', '🇺🇸 USA', '27', 'SonySONY', '$116.41 B', '$93.51', '0.28%', '', '🇯🇵 Japan', '28', 'Keyence6861.T', '$115.27 B', '$475.30', '0.35%', '', '🇯🇵 Japan', '29', 'Applied MaterialsAMAT', '$113.80 B', '$135.52', '1.10%', '', '🇺🇸 USA', '30', 'Booking Holdings (Booking.com)BKNG', '$108.88 B', '$2,948', '1.05%', '', '🇺🇸 USA', '31', 'Meituan3690.HK', '$102.47 B', '$16.42', '1.18%', '', '🇨🇳 China', '32', 'Schneider ElectricSU.PA', '$102.01 B', '$181.90', '1.19%', '', '🇫🇷 France', '33', 'PinduoduoPDD', '$100.91 B', '$75.96', '1.44%', '', '🇨🇳 China', '34', 'Automatic Data ProcessingADP', '$98.30 B', '$237.95', '0.37%', '', '🇺🇸 USA', '35', 'Analog DevicesADI', '$95.86 B', '$191.05', '0.74%', '', '🇺🇸 USA', '36', 'UberUBER', '$94.13 B', '$46.52', '0.12%', '', '🇺🇸 USA', '37', 'AirbnbABNB', '$93.73 B', '$148.73', '2.37%', '', '🇺🇸 USA', '38', 'ShopifySHOP', '$83.93 B', '$65.63', '0.29%', '', '🇨🇦 Canada', '39', 'Lam ResearchLRCX', '$83.33 B', '$620.30', '0.78%', '', '🇺🇸 USA', '40', 'PayPalPYPL', '$80.68 B', '$72.32', '0.96%', '', '🇺🇸 USA', '41', 'FiservFI', '$79.71 B', '$129.13', '0.19%', '', '🇺🇸 USA', '42', 'EquinixEQIX', '$75.92 B', '$811.87', '0.17%', '', '🇺🇸 USA', '43', 'Palo Alto Networks\\nPANW', '$74.90 B', '$244.89', '1.17%', '', '🇺🇸 USA', '44', 'Activision BlizzardATVI', '$72.54 B', '$92.28', '0.01%', '', '🇺🇸 USA', '45', 'Micron TechnologyMU', '$70.71 B', '$64.56', '0.20%', '', '🇺🇸 USA', '46', 'VmwareVMW', '$70.35 B', '$163.49', '0.17%', '', '🇺🇸 USA', '47', 'SynopsysSNPS', '$69.03 B', '$453.69', '0.44%', '', '🇺🇸 USA', '48', 'Cadence Design SystemsCDNS', '$66.14 B', '$242.57', '1.58%', '', '🇺🇸 USA', '49', 'NetEaseNTES', '$65.91 B', '$101.98', '0.50%', '', '🇨🇳 China', '50', 'Tokyo Electron8035.T', '$64.74 B', '$138.38', '5.62%', '', '🇯🇵 Japan', '51', 'SK Hynix000660.KS', '$64.17 B', '$90.62', '1.54%', '', '🇰🇷 S. Korea', '52', 'KLAKLAC', '$62.36 B', '$454.58', '1.00%', '', '🇺🇸 USA', '53', 'FortinetFTNT', '$61.56 B', '$78.41', '0.91%', '', '🇺🇸 USA', '54', 'WorkdayWDAY', '$61.04 B', '$224.44', '0.95%', '', '🇺🇸 USA', '55', 'MercadoLibreMELI', '$60.90 B', '$1,213', '1.22%', '', '🇦🇷 Argentina', '56', 'Dassault SystèmesDSY.PA', '$59.99 B', '$45.46', '0.41%', '', '🇫🇷 France', '57', 'Jingdong MallJD', '$58.57 B', '$37.28', '1.68%', '', '🇨🇳 China', '58', 'SnowflakeSNOW', '$58.33 B', '$179.01', '1.52%', '', '🇺🇸 USA', '59', 'NXP SemiconductorsNXPI', '$55.41 B', '$213.35', '0.66%', '', '🇳🇱 Netherlands', '60', 'Marvell Technology GroupMRVL', '$54.79 B', '$63.72', '0.79%', '', '🇺🇸 USA', '61', 'AdyenADYEN.AS', '$53.91 B', '$1,738', '0.44%', '', '🇳🇱 Netherlands', '62', 'InfineonIFX.DE', '$53.87 B', '$41.36', '0.38%', '', '🇩🇪 Germany', '63', 'Nintendo\\n7974.T', '$53.75 B', '$46.02', '0.12%', '', '🇯🇵 Japan', '64', 'Roper TechnologiesROP', '$53.40 B', '$499.98', '3.82%', '', '🇺🇸 USA', '65', 'Arista NetworksANET', '$53.29 B', '$172.88', '0.86%', '', '🇺🇸 USA', '66', 'BaiduBIDU', '$50.24 B', '$142.72', '0.22%', '', '🇨🇳 China', '67', 'Microchip TechnologyMCHP', '$48.60 B', '$89.29', '1.19%', '', '🇺🇸 USA', '68', 'Foxconn (Hon Hai Precision Industry)2317.TW', '$47.95 B', '$3.46', '0.46%', '', '🇹🇼 Taiwan', '69', 'STMicroelectronicsSTM', '$47.75 B', '$50.76', '0.11%', '', '🇨🇭 Switzerland', '70', 'AutodeskADSK', '$46.32 B', '$213.24', '1.08%', '', '🇺🇸 USA', '71', 'BlockSQ', '$45.78 B', '$75.70', '0.62%', '', '🇺🇸 USA', '72', 'Constellation Software\\nCSU.TO', '$45.39 B', '$2,142', '0.54%', '', '🇨🇦 Canada', '73', 'AtlassianTEAM', '$45.22 B', '$175.98', '0.19%', '', '🇦🇺 Australia', '74', 'TE Connectivity\\nTEL', '$44.50 B', '$141.22', '0.51%', '', '🇨🇭 Switzerland', '75', 'The Trade Desk\\nTTD', '$43.25 B', '$84.57', '0.20%', '', '🇺🇸 USA', '76', 'ON SemiconductorON', '$42.42 B', '$98.24', '0.97%', '', '🇺🇸 USA', '77', 'IQVIAIQV', '$41.84 B', '$225.54', '0.37%', '', '🇺🇸 USA', '78', 'DellDELL', '$39.03 B', '$53.68', '0.15%', '', '🇺🇸 USA', '79', 'Electronic ArtsEA', '$37.36 B', '$137.32', '0.14%', '', '🇺🇸 USA', '80', 'Murata Manufacturing (Murata Seisakusho)6981.T', '$37.13 B', '$58.97', '0.07%', '', '🇯🇵 Japan', '81', 'CoStar GroupCSGP', '$37.12 B', '$90.88', '0.73%', '', '🇺🇸 USA', '82', 'Fidelity National Information ServicesFIS', '$36.06 B', '$60.88', '0.49%', '', '🇺🇸 USA', '83', 'CrowdStrikeCRWD', '$35.55 B', '$149.94', '1.26%', '', '🇺🇸 USA', '84', 'DatadogDDOG', '$35.51 B', '$110.33', '0.39%', '', '🇺🇸 USA', '85', 'XiaomiXIACF', '$35.47 B', '$1.41', '0.00%', '', '🇨🇳 China', '86', 'GlobalFoundriesGFS', '$35.44 B', '$64.19', '0.20%', '', '🇺🇸 USA', '87', 'PalantirPLTR', '$35.21 B', '$16.62', '2.95%', '', '🇺🇸 USA', '88', 'MediaTek2454.TW', '$34.93 B', '$21.95', '1.45%', '', '🇹🇼 Taiwan', '89', 'Sea (Garena)SE', '$34.73 B', '$61.07', '1.51%', '', '🇸🇬 Singapore', '90', 'Amadeus IT GroupAMS.MC', '$33.80 B', '$75.34', '0.60%', '', '🇪🇸 Spain', '91', 'Renesas Electronics\\n6723.T', '$33.77 B', '$19.13', '2.52%', '', '🇯🇵 Japan', '92', 'SpotifySPOT', '$33.60 B', '$173.75', '0.74%', '', '🇸🇪 Sweden', '93', 'Kuaishou Technology1024.HK', '$33.14 B', '$7.65', '4.82%', '', '🇨🇳 China', '94', 'Veeva SystemsVEEV', '$33.10 B', '$199.32', '0.22%', '', '🇺🇸 USA', '95', 'MobileyeMBLY', '$32.97 B', '$40.92', '0.33%', '', '🇮🇱 Israel', '96', 'DoorDashDASH', '$32.74 B', '$84.55', '1.09%', '', '🇺🇸 USA', '97', 'HPHPQ', '$32.33 B', '$32.42', '0.41%', '', '🇺🇸 USA', '98', 'Wolters KluwerWKL.AS', '$31.96 B', '$127.23', '0.58%', '', '🇳🇱 Netherlands', '99', 'CoupangCPNG', '$30.60 B', '$17.16', '0.44%', '', '🇰🇷 S. Korea', '100', 'Delta Electronics2308.TW', '$30.05 B', '$11.57', '0.84%', '', '🇹🇼 Taiwan']\n"
     ]
    }
   ],
   "source": [
    "cleaned_row =[]\n",
    "for i in individual_row:\n",
    "    cleaned_row.append(i.text.strip())\n",
    "    \n",
    "print(cleaned_row)"
   ]
  },
  {
   "cell_type": "code",
   "execution_count": 9,
   "id": "93e8973f",
   "metadata": {},
   "outputs": [
    {
     "data": {
      "text/plain": [
       "['1', 'AppleAAPL', '$3.052 T', '$194.07', '0.49%', '', '🇺🇸 USA']"
      ]
     },
     "execution_count": 9,
     "metadata": {},
     "output_type": "execute_result"
    }
   ],
   "source": [
    "cleaned_row[0:7]"
   ]
  },
  {
   "cell_type": "code",
   "execution_count": 10,
   "id": "ceda111b",
   "metadata": {},
   "outputs": [],
   "source": [
    "result = cleaned_row[1::7]"
   ]
  },
  {
   "cell_type": "code",
   "execution_count": 11,
   "id": "5c263004",
   "metadata": {
    "scrolled": true
   },
   "outputs": [
    {
     "data": {
      "text/plain": [
       "['AppleAAPL',\n",
       " 'MicrosoftMSFT',\n",
       " 'Alphabet (Google)GOOG',\n",
       " 'AmazonAMZN',\n",
       " 'NVIDIANVDA',\n",
       " 'TeslaTSLA',\n",
       " 'Meta Platforms (Facebook)META',\n",
       " 'TSMCTSM',\n",
       " 'TencentTCEHY',\n",
       " 'BroadcomAVGO',\n",
       " 'Samsung005930.KS',\n",
       " 'OracleORCL',\n",
       " 'ASMLASML',\n",
       " 'AdobeADBE',\n",
       " 'AlibabaBABA',\n",
       " 'SalesforceCRM',\n",
       " 'CiscoCSCO',\n",
       " 'NetflixNFLX',\n",
       " 'AMDAMD',\n",
       " 'Texas InstrumentsTXN',\n",
       " 'SAPSAP',\n",
       " 'IntuitINTU',\n",
       " 'IntelINTC',\n",
       " 'QUALCOMMQCOM',\n",
       " 'IBMIBM',\n",
       " 'ServiceNowNOW',\n",
       " 'SonySONY',\n",
       " 'Keyence6861.T',\n",
       " 'Applied MaterialsAMAT',\n",
       " 'Booking Holdings (Booking.com)BKNG',\n",
       " 'Meituan3690.HK',\n",
       " 'Schneider ElectricSU.PA',\n",
       " 'PinduoduoPDD',\n",
       " 'Automatic Data ProcessingADP',\n",
       " 'Analog DevicesADI',\n",
       " 'UberUBER',\n",
       " 'AirbnbABNB',\n",
       " 'ShopifySHOP',\n",
       " 'Lam ResearchLRCX',\n",
       " 'PayPalPYPL',\n",
       " 'FiservFI',\n",
       " 'EquinixEQIX',\n",
       " 'Palo Alto Networks\\nPANW',\n",
       " 'Activision BlizzardATVI',\n",
       " 'Micron TechnologyMU',\n",
       " 'VmwareVMW',\n",
       " 'SynopsysSNPS',\n",
       " 'Cadence Design SystemsCDNS',\n",
       " 'NetEaseNTES',\n",
       " 'Tokyo Electron8035.T',\n",
       " 'SK Hynix000660.KS',\n",
       " 'KLAKLAC',\n",
       " 'FortinetFTNT',\n",
       " 'WorkdayWDAY',\n",
       " 'MercadoLibreMELI',\n",
       " 'Dassault SystèmesDSY.PA',\n",
       " 'Jingdong MallJD',\n",
       " 'SnowflakeSNOW',\n",
       " 'NXP SemiconductorsNXPI',\n",
       " 'Marvell Technology GroupMRVL',\n",
       " 'AdyenADYEN.AS',\n",
       " 'InfineonIFX.DE',\n",
       " 'Nintendo\\n7974.T',\n",
       " 'Roper TechnologiesROP',\n",
       " 'Arista NetworksANET',\n",
       " 'BaiduBIDU',\n",
       " 'Microchip TechnologyMCHP',\n",
       " 'Foxconn (Hon Hai Precision Industry)2317.TW',\n",
       " 'STMicroelectronicsSTM',\n",
       " 'AutodeskADSK',\n",
       " 'BlockSQ',\n",
       " 'Constellation Software\\nCSU.TO',\n",
       " 'AtlassianTEAM',\n",
       " 'TE Connectivity\\nTEL',\n",
       " 'The Trade Desk\\nTTD',\n",
       " 'ON SemiconductorON',\n",
       " 'IQVIAIQV',\n",
       " 'DellDELL',\n",
       " 'Electronic ArtsEA',\n",
       " 'Murata Manufacturing (Murata Seisakusho)6981.T',\n",
       " 'CoStar GroupCSGP',\n",
       " 'Fidelity National Information ServicesFIS',\n",
       " 'CrowdStrikeCRWD',\n",
       " 'DatadogDDOG',\n",
       " 'XiaomiXIACF',\n",
       " 'GlobalFoundriesGFS',\n",
       " 'PalantirPLTR',\n",
       " 'MediaTek2454.TW',\n",
       " 'Sea (Garena)SE',\n",
       " 'Amadeus IT GroupAMS.MC',\n",
       " 'Renesas Electronics\\n6723.T',\n",
       " 'SpotifySPOT',\n",
       " 'Kuaishou Technology1024.HK',\n",
       " 'Veeva SystemsVEEV',\n",
       " 'MobileyeMBLY',\n",
       " 'DoorDashDASH',\n",
       " 'HPHPQ',\n",
       " 'Wolters KluwerWKL.AS',\n",
       " 'CoupangCPNG',\n",
       " 'Delta Electronics2308.TW']"
      ]
     },
     "execution_count": 11,
     "metadata": {},
     "output_type": "execute_result"
    }
   ],
   "source": [
    "result"
   ]
  },
  {
   "cell_type": "code",
   "execution_count": 12,
   "id": "f6c3f336",
   "metadata": {},
   "outputs": [],
   "source": [
    "top_5 = result[0:5]"
   ]
  },
  {
   "cell_type": "code",
   "execution_count": 13,
   "id": "20e659dd",
   "metadata": {},
   "outputs": [
    {
     "data": {
      "text/plain": [
       "['AppleAAPL',\n",
       " 'MicrosoftMSFT',\n",
       " 'Alphabet (Google)GOOG',\n",
       " 'AmazonAMZN',\n",
       " 'NVIDIANVDA']"
      ]
     },
     "execution_count": 13,
     "metadata": {},
     "output_type": "execute_result"
    }
   ],
   "source": [
    "top_5"
   ]
  },
  {
   "cell_type": "code",
   "execution_count": 15,
   "id": "e779a603",
   "metadata": {},
   "outputs": [
    {
     "name": "stdout",
     "output_type": "stream",
     "text": [
      "['AAPL', 'MSFT', 'GOOG', 'AMZN', 'NVDA']\n"
     ]
    }
   ],
   "source": [
    "top_5_ticker_symbols = []\n",
    "for i in top_5:\n",
    "    top_5_ticker_symbols.append(i[-4:])\n",
    "\n",
    "print(top_5_ticker_symbols)\n"
   ]
  },
  {
   "cell_type": "markdown",
   "id": "38a932af",
   "metadata": {},
   "source": [
    "# 2. Since, we got the top 5 tech. companies, let's now extract their stock data from Yahoo! Finance"
   ]
  },
  {
   "cell_type": "markdown",
   "id": "d2c10a34",
   "metadata": {},
   "source": [
    "# Importing the libraries"
   ]
  },
  {
   "cell_type": "code",
   "execution_count": 16,
   "id": "02cf5604",
   "metadata": {},
   "outputs": [],
   "source": [
    "import yfinance as yf\n",
    "import pandas as pd"
   ]
  },
  {
   "cell_type": "markdown",
   "id": "21fc6510",
   "metadata": {},
   "source": [
    "### Let' start by stocks for one company"
   ]
  },
  {
   "cell_type": "code",
   "execution_count": 17,
   "id": "3bf28884",
   "metadata": {},
   "outputs": [],
   "source": [
    "tesla = yf.Ticker('TSLA')"
   ]
  },
  {
   "cell_type": "code",
   "execution_count": 18,
   "id": "64790778",
   "metadata": {},
   "outputs": [
    {
     "data": {
      "text/plain": [
       "yfinance.Ticker object <TSLA>"
      ]
     },
     "execution_count": 18,
     "metadata": {},
     "output_type": "execute_result"
    }
   ],
   "source": [
    "tesla"
   ]
  },
  {
   "cell_type": "code",
   "execution_count": 19,
   "id": "e97c6cd6",
   "metadata": {},
   "outputs": [
    {
     "name": "stdout",
     "output_type": "stream",
     "text": [
      "<class 'yfinance.ticker.Ticker'>\n"
     ]
    }
   ],
   "source": [
    "print(type(tesla))"
   ]
  },
  {
   "cell_type": "markdown",
   "id": "788404ed",
   "metadata": {},
   "source": [
    "### Putting the returned object into a dataframe with some history of 5 years of data"
   ]
  },
  {
   "cell_type": "code",
   "execution_count": 20,
   "id": "250233d5",
   "metadata": {},
   "outputs": [],
   "source": [
    "df= pd.DataFrame(tesla.history('5y'))"
   ]
  },
  {
   "cell_type": "code",
   "execution_count": 21,
   "id": "51b6879b",
   "metadata": {},
   "outputs": [
    {
     "data": {
      "text/html": [
       "<div>\n",
       "<style scoped>\n",
       "    .dataframe tbody tr th:only-of-type {\n",
       "        vertical-align: middle;\n",
       "    }\n",
       "\n",
       "    .dataframe tbody tr th {\n",
       "        vertical-align: top;\n",
       "    }\n",
       "\n",
       "    .dataframe thead th {\n",
       "        text-align: right;\n",
       "    }\n",
       "</style>\n",
       "<table border=\"1\" class=\"dataframe\">\n",
       "  <thead>\n",
       "    <tr style=\"text-align: right;\">\n",
       "      <th></th>\n",
       "      <th>Open</th>\n",
       "      <th>High</th>\n",
       "      <th>Low</th>\n",
       "      <th>Close</th>\n",
       "      <th>Volume</th>\n",
       "      <th>Dividends</th>\n",
       "      <th>Stock Splits</th>\n",
       "    </tr>\n",
       "    <tr>\n",
       "      <th>Date</th>\n",
       "      <th></th>\n",
       "      <th></th>\n",
       "      <th></th>\n",
       "      <th></th>\n",
       "      <th></th>\n",
       "      <th></th>\n",
       "      <th></th>\n",
       "    </tr>\n",
       "  </thead>\n",
       "  <tbody>\n",
       "    <tr>\n",
       "      <th>2018-07-23 00:00:00-04:00</th>\n",
       "      <td>20.122667</td>\n",
       "      <td>20.366667</td>\n",
       "      <td>19.524000</td>\n",
       "      <td>20.213333</td>\n",
       "      <td>164893500</td>\n",
       "      <td>0.0</td>\n",
       "      <td>0.0</td>\n",
       "    </tr>\n",
       "    <tr>\n",
       "      <th>2018-07-24 00:00:00-04:00</th>\n",
       "      <td>20.294666</td>\n",
       "      <td>20.514668</td>\n",
       "      <td>19.503332</td>\n",
       "      <td>19.828667</td>\n",
       "      <td>143862000</td>\n",
       "      <td>0.0</td>\n",
       "      <td>0.0</td>\n",
       "    </tr>\n",
       "    <tr>\n",
       "      <th>2018-07-25 00:00:00-04:00</th>\n",
       "      <td>19.782667</td>\n",
       "      <td>20.641333</td>\n",
       "      <td>19.633333</td>\n",
       "      <td>20.582666</td>\n",
       "      <td>106131000</td>\n",
       "      <td>0.0</td>\n",
       "      <td>0.0</td>\n",
       "    </tr>\n",
       "    <tr>\n",
       "      <th>2018-07-26 00:00:00-04:00</th>\n",
       "      <td>20.323334</td>\n",
       "      <td>20.713333</td>\n",
       "      <td>20.242666</td>\n",
       "      <td>20.443333</td>\n",
       "      <td>69457500</td>\n",
       "      <td>0.0</td>\n",
       "      <td>0.0</td>\n",
       "    </tr>\n",
       "    <tr>\n",
       "      <th>2018-07-27 00:00:00-04:00</th>\n",
       "      <td>20.483334</td>\n",
       "      <td>20.512667</td>\n",
       "      <td>19.689333</td>\n",
       "      <td>19.812000</td>\n",
       "      <td>85549500</td>\n",
       "      <td>0.0</td>\n",
       "      <td>0.0</td>\n",
       "    </tr>\n",
       "  </tbody>\n",
       "</table>\n",
       "</div>"
      ],
      "text/plain": [
       "                                Open       High        Low      Close  \\\n",
       "Date                                                                    \n",
       "2018-07-23 00:00:00-04:00  20.122667  20.366667  19.524000  20.213333   \n",
       "2018-07-24 00:00:00-04:00  20.294666  20.514668  19.503332  19.828667   \n",
       "2018-07-25 00:00:00-04:00  19.782667  20.641333  19.633333  20.582666   \n",
       "2018-07-26 00:00:00-04:00  20.323334  20.713333  20.242666  20.443333   \n",
       "2018-07-27 00:00:00-04:00  20.483334  20.512667  19.689333  19.812000   \n",
       "\n",
       "                              Volume  Dividends  Stock Splits  \n",
       "Date                                                           \n",
       "2018-07-23 00:00:00-04:00  164893500        0.0           0.0  \n",
       "2018-07-24 00:00:00-04:00  143862000        0.0           0.0  \n",
       "2018-07-25 00:00:00-04:00  106131000        0.0           0.0  \n",
       "2018-07-26 00:00:00-04:00   69457500        0.0           0.0  \n",
       "2018-07-27 00:00:00-04:00   85549500        0.0           0.0  "
      ]
     },
     "execution_count": 21,
     "metadata": {},
     "output_type": "execute_result"
    }
   ],
   "source": [
    "df.head()"
   ]
  },
  {
   "cell_type": "code",
   "execution_count": 22,
   "id": "57ec58b0",
   "metadata": {},
   "outputs": [
    {
     "name": "stdout",
     "output_type": "stream",
     "text": [
      "<class 'pandas.core.frame.DataFrame'>\n",
      "DatetimeIndex: 1258 entries, 2018-07-23 00:00:00-04:00 to 2023-07-21 00:00:00-04:00\n",
      "Data columns (total 7 columns):\n",
      " #   Column        Non-Null Count  Dtype  \n",
      "---  ------        --------------  -----  \n",
      " 0   Open          1258 non-null   float64\n",
      " 1   High          1258 non-null   float64\n",
      " 2   Low           1258 non-null   float64\n",
      " 3   Close         1258 non-null   float64\n",
      " 4   Volume        1258 non-null   int64  \n",
      " 5   Dividends     1258 non-null   float64\n",
      " 6   Stock Splits  1258 non-null   float64\n",
      "dtypes: float64(6), int64(1)\n",
      "memory usage: 78.6 KB\n"
     ]
    }
   ],
   "source": [
    "df.info()"
   ]
  },
  {
   "cell_type": "markdown",
   "id": "45e62a32",
   "metadata": {},
   "source": [
    "### As the date is in index of the dataframe , let's convert it back to column"
   ]
  },
  {
   "cell_type": "code",
   "execution_count": 23,
   "id": "90784ca9",
   "metadata": {},
   "outputs": [],
   "source": [
    "df.reset_index(inplace=True)"
   ]
  },
  {
   "cell_type": "code",
   "execution_count": 25,
   "id": "450ebb68",
   "metadata": {},
   "outputs": [
    {
     "data": {
      "text/html": [
       "<div>\n",
       "<style scoped>\n",
       "    .dataframe tbody tr th:only-of-type {\n",
       "        vertical-align: middle;\n",
       "    }\n",
       "\n",
       "    .dataframe tbody tr th {\n",
       "        vertical-align: top;\n",
       "    }\n",
       "\n",
       "    .dataframe thead th {\n",
       "        text-align: right;\n",
       "    }\n",
       "</style>\n",
       "<table border=\"1\" class=\"dataframe\">\n",
       "  <thead>\n",
       "    <tr style=\"text-align: right;\">\n",
       "      <th></th>\n",
       "      <th>Date</th>\n",
       "      <th>Open</th>\n",
       "      <th>High</th>\n",
       "      <th>Low</th>\n",
       "      <th>Close</th>\n",
       "      <th>Volume</th>\n",
       "      <th>Dividends</th>\n",
       "      <th>Stock Splits</th>\n",
       "    </tr>\n",
       "  </thead>\n",
       "  <tbody>\n",
       "    <tr>\n",
       "      <th>0</th>\n",
       "      <td>2018-07-23 00:00:00-04:00</td>\n",
       "      <td>20.122667</td>\n",
       "      <td>20.366667</td>\n",
       "      <td>19.524000</td>\n",
       "      <td>20.213333</td>\n",
       "      <td>164893500</td>\n",
       "      <td>0.0</td>\n",
       "      <td>0.0</td>\n",
       "    </tr>\n",
       "    <tr>\n",
       "      <th>1</th>\n",
       "      <td>2018-07-24 00:00:00-04:00</td>\n",
       "      <td>20.294666</td>\n",
       "      <td>20.514668</td>\n",
       "      <td>19.503332</td>\n",
       "      <td>19.828667</td>\n",
       "      <td>143862000</td>\n",
       "      <td>0.0</td>\n",
       "      <td>0.0</td>\n",
       "    </tr>\n",
       "    <tr>\n",
       "      <th>2</th>\n",
       "      <td>2018-07-25 00:00:00-04:00</td>\n",
       "      <td>19.782667</td>\n",
       "      <td>20.641333</td>\n",
       "      <td>19.633333</td>\n",
       "      <td>20.582666</td>\n",
       "      <td>106131000</td>\n",
       "      <td>0.0</td>\n",
       "      <td>0.0</td>\n",
       "    </tr>\n",
       "    <tr>\n",
       "      <th>3</th>\n",
       "      <td>2018-07-26 00:00:00-04:00</td>\n",
       "      <td>20.323334</td>\n",
       "      <td>20.713333</td>\n",
       "      <td>20.242666</td>\n",
       "      <td>20.443333</td>\n",
       "      <td>69457500</td>\n",
       "      <td>0.0</td>\n",
       "      <td>0.0</td>\n",
       "    </tr>\n",
       "    <tr>\n",
       "      <th>4</th>\n",
       "      <td>2018-07-27 00:00:00-04:00</td>\n",
       "      <td>20.483334</td>\n",
       "      <td>20.512667</td>\n",
       "      <td>19.689333</td>\n",
       "      <td>19.812000</td>\n",
       "      <td>85549500</td>\n",
       "      <td>0.0</td>\n",
       "      <td>0.0</td>\n",
       "    </tr>\n",
       "    <tr>\n",
       "      <th>...</th>\n",
       "      <td>...</td>\n",
       "      <td>...</td>\n",
       "      <td>...</td>\n",
       "      <td>...</td>\n",
       "      <td>...</td>\n",
       "      <td>...</td>\n",
       "      <td>...</td>\n",
       "      <td>...</td>\n",
       "    </tr>\n",
       "    <tr>\n",
       "      <th>1253</th>\n",
       "      <td>2023-07-17 00:00:00-04:00</td>\n",
       "      <td>286.630005</td>\n",
       "      <td>292.230011</td>\n",
       "      <td>283.570007</td>\n",
       "      <td>290.380005</td>\n",
       "      <td>131569600</td>\n",
       "      <td>0.0</td>\n",
       "      <td>0.0</td>\n",
       "    </tr>\n",
       "    <tr>\n",
       "      <th>1254</th>\n",
       "      <td>2023-07-18 00:00:00-04:00</td>\n",
       "      <td>290.149994</td>\n",
       "      <td>295.260010</td>\n",
       "      <td>286.010010</td>\n",
       "      <td>293.339996</td>\n",
       "      <td>112434700</td>\n",
       "      <td>0.0</td>\n",
       "      <td>0.0</td>\n",
       "    </tr>\n",
       "    <tr>\n",
       "      <th>1255</th>\n",
       "      <td>2023-07-19 00:00:00-04:00</td>\n",
       "      <td>296.040009</td>\n",
       "      <td>299.290009</td>\n",
       "      <td>289.519989</td>\n",
       "      <td>291.260010</td>\n",
       "      <td>142355400</td>\n",
       "      <td>0.0</td>\n",
       "      <td>0.0</td>\n",
       "    </tr>\n",
       "    <tr>\n",
       "      <th>1256</th>\n",
       "      <td>2023-07-20 00:00:00-04:00</td>\n",
       "      <td>279.559998</td>\n",
       "      <td>280.929993</td>\n",
       "      <td>261.200012</td>\n",
       "      <td>262.899994</td>\n",
       "      <td>174165400</td>\n",
       "      <td>0.0</td>\n",
       "      <td>0.0</td>\n",
       "    </tr>\n",
       "    <tr>\n",
       "      <th>1257</th>\n",
       "      <td>2023-07-21 00:00:00-04:00</td>\n",
       "      <td>268.000000</td>\n",
       "      <td>268.000000</td>\n",
       "      <td>261.000000</td>\n",
       "      <td>261.760010</td>\n",
       "      <td>23885950</td>\n",
       "      <td>0.0</td>\n",
       "      <td>0.0</td>\n",
       "    </tr>\n",
       "  </tbody>\n",
       "</table>\n",
       "<p>1258 rows × 8 columns</p>\n",
       "</div>"
      ],
      "text/plain": [
       "                          Date        Open        High         Low  \\\n",
       "0    2018-07-23 00:00:00-04:00   20.122667   20.366667   19.524000   \n",
       "1    2018-07-24 00:00:00-04:00   20.294666   20.514668   19.503332   \n",
       "2    2018-07-25 00:00:00-04:00   19.782667   20.641333   19.633333   \n",
       "3    2018-07-26 00:00:00-04:00   20.323334   20.713333   20.242666   \n",
       "4    2018-07-27 00:00:00-04:00   20.483334   20.512667   19.689333   \n",
       "...                        ...         ...         ...         ...   \n",
       "1253 2023-07-17 00:00:00-04:00  286.630005  292.230011  283.570007   \n",
       "1254 2023-07-18 00:00:00-04:00  290.149994  295.260010  286.010010   \n",
       "1255 2023-07-19 00:00:00-04:00  296.040009  299.290009  289.519989   \n",
       "1256 2023-07-20 00:00:00-04:00  279.559998  280.929993  261.200012   \n",
       "1257 2023-07-21 00:00:00-04:00  268.000000  268.000000  261.000000   \n",
       "\n",
       "           Close     Volume  Dividends  Stock Splits  \n",
       "0      20.213333  164893500        0.0           0.0  \n",
       "1      19.828667  143862000        0.0           0.0  \n",
       "2      20.582666  106131000        0.0           0.0  \n",
       "3      20.443333   69457500        0.0           0.0  \n",
       "4      19.812000   85549500        0.0           0.0  \n",
       "...          ...        ...        ...           ...  \n",
       "1253  290.380005  131569600        0.0           0.0  \n",
       "1254  293.339996  112434700        0.0           0.0  \n",
       "1255  291.260010  142355400        0.0           0.0  \n",
       "1256  262.899994  174165400        0.0           0.0  \n",
       "1257  261.760010   23885950        0.0           0.0  \n",
       "\n",
       "[1258 rows x 8 columns]"
      ]
     },
     "execution_count": 25,
     "metadata": {},
     "output_type": "execute_result"
    }
   ],
   "source": [
    "df"
   ]
  },
  {
   "cell_type": "markdown",
   "id": "08ddc18a",
   "metadata": {},
   "source": [
    "#### Checking the oldest and latest date of the data"
   ]
  },
  {
   "cell_type": "code",
   "execution_count": 24,
   "id": "1cf4ea44",
   "metadata": {},
   "outputs": [
    {
     "name": "stdout",
     "output_type": "stream",
     "text": [
      "Latest date of data :  2023-07-21 00:00:00-04:00\n",
      "Oldest date of data :  2018-07-23 00:00:00-04:00\n"
     ]
    }
   ],
   "source": [
    "print(\"Latest date of data : \",df.Date.max())\n",
    "print(\"Oldest date of data : \",df.Date.min())"
   ]
  },
  {
   "cell_type": "markdown",
   "id": "61408877",
   "metadata": {},
   "source": [
    "#### Therefore, we have the data of TESLA stocks from the last 5 years. let' save it as CSV file for further EDA"
   ]
  },
  {
   "cell_type": "code",
   "execution_count": 27,
   "id": "65a7b140",
   "metadata": {},
   "outputs": [],
   "source": [
    "df.to_csv('TESLA.csv',index=False)"
   ]
  },
  {
   "cell_type": "markdown",
   "id": "b0b3e67e",
   "metadata": {},
   "source": [
    "# 3. Making a generalised function to extract the data for all top 5 tech companies and storing it in a CSV file."
   ]
  },
  {
   "cell_type": "code",
   "execution_count": 28,
   "id": "115d1ddf",
   "metadata": {},
   "outputs": [
    {
     "data": {
      "text/plain": [
       "['AAPL', 'MSFT', 'GOOG', 'AMZN', 'NVDA']"
      ]
     },
     "execution_count": 28,
     "metadata": {},
     "output_type": "execute_result"
    }
   ],
   "source": [
    "top_5_ticker_symbols"
   ]
  },
  {
   "cell_type": "code",
   "execution_count": 33,
   "id": "47d89326",
   "metadata": {},
   "outputs": [],
   "source": [
    "for i in top_5_ticker_symbols:\n",
    "    data = yf.Ticker(i)\n",
    "    df= pd.DataFrame(data.history('5y'))\n",
    "    df.reset_index(inplace=True)\n",
    "    df.to_csv('{}.csv'.format(i),index=False)"
   ]
  }
 ],
 "metadata": {
  "kernelspec": {
   "display_name": "Python 3 (ipykernel)",
   "language": "python",
   "name": "python3"
  },
  "language_info": {
   "codemirror_mode": {
    "name": "ipython",
    "version": 3
   },
   "file_extension": ".py",
   "mimetype": "text/x-python",
   "name": "python",
   "nbconvert_exporter": "python",
   "pygments_lexer": "ipython3",
   "version": "3.9.7"
  }
 },
 "nbformat": 4,
 "nbformat_minor": 5
}
